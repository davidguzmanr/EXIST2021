{
 "cells": [
  {
   "cell_type": "code",
   "execution_count": 1,
   "id": "informal-galaxy",
   "metadata": {},
   "outputs": [],
   "source": [
    "import pandas as pd\n",
    "import numpy as np\n",
    "import random\n",
    "import matplotlib.pyplot as plt\n",
    "import seaborn as sns\n",
    "from tqdm import tqdm, trange\n",
    "\n",
    "from torchtext.data import Field\n",
    "from torchtext.vocab import GloVe\n",
    "from gensim.models.doc2vec import Doc2Vec, TaggedDocument\n",
    "from transformers import BertTokenizer, BertModel\n",
    "\n",
    "import torch\n",
    "import torch.nn as nn\n",
    "from torch.utils.data import DataLoader, random_split\n",
    "import torch.optim as optim\n",
    "import torch.nn.functional as F\n",
    "from torchinfo import summary\n",
    "\n",
    "from sklearn.preprocessing import LabelEncoder\n",
    "from sklearn.metrics import confusion_matrix, accuracy_score, classification_report\n",
    "\n",
    "from utils import preprocessing\n",
    "\n",
    "sns.set_style('darkgrid')"
   ]
  },
  {
   "cell_type": "code",
   "execution_count": 2,
   "id": "parental-johns",
   "metadata": {},
   "outputs": [],
   "source": [
    "# Reproducibility\n",
    "random.seed(42)\n",
    "np.random.seed(42)\n",
    "torch.manual_seed(42)\n",
    "torch.backends.cudnn.deterministic = True"
   ]
  },
  {
   "cell_type": "code",
   "execution_count": 3,
   "id": "induced-metropolitan",
   "metadata": {},
   "outputs": [
    {
     "data": {
      "text/plain": [
       "device(type='cuda', index=0)"
      ]
     },
     "execution_count": 3,
     "metadata": {},
     "output_type": "execute_result"
    }
   ],
   "source": [
    "device = torch.device('cuda:0' if torch.cuda.is_available() else 'cpu')\n",
    "device"
   ]
  },
  {
   "cell_type": "markdown",
   "id": "monetary-electron",
   "metadata": {},
   "source": [
    "# BERT"
   ]
  },
  {
   "cell_type": "markdown",
   "id": "opposite-figure",
   "metadata": {},
   "source": [
    "## Datos"
   ]
  },
  {
   "cell_type": "code",
   "execution_count": 4,
   "id": "apart-toolbox",
   "metadata": {},
   "outputs": [
    {
     "data": {
      "text/html": [
       "<div>\n",
       "<style scoped>\n",
       "    .dataframe tbody tr th:only-of-type {\n",
       "        vertical-align: middle;\n",
       "    }\n",
       "\n",
       "    .dataframe tbody tr th {\n",
       "        vertical-align: top;\n",
       "    }\n",
       "\n",
       "    .dataframe thead th {\n",
       "        text-align: right;\n",
       "    }\n",
       "</style>\n",
       "<table border=\"1\" class=\"dataframe\">\n",
       "  <thead>\n",
       "    <tr style=\"text-align: right;\">\n",
       "      <th></th>\n",
       "      <th>test_case</th>\n",
       "      <th>id</th>\n",
       "      <th>source</th>\n",
       "      <th>language</th>\n",
       "      <th>text</th>\n",
       "      <th>task1</th>\n",
       "      <th>task2</th>\n",
       "      <th>label</th>\n",
       "    </tr>\n",
       "  </thead>\n",
       "  <tbody>\n",
       "    <tr>\n",
       "      <th>0</th>\n",
       "      <td>EXIST2021</td>\n",
       "      <td>1</td>\n",
       "      <td>twitter</td>\n",
       "      <td>en</td>\n",
       "      <td>she calls herself \" anti-feminazi \" how about ...</td>\n",
       "      <td>sexist</td>\n",
       "      <td>ideological-inequality</td>\n",
       "      <td>1</td>\n",
       "    </tr>\n",
       "    <tr>\n",
       "      <th>1</th>\n",
       "      <td>EXIST2021</td>\n",
       "      <td>2</td>\n",
       "      <td>twitter</td>\n",
       "      <td>en</td>\n",
       "      <td>now , back to these women , the brave and the ...</td>\n",
       "      <td>non-sexist</td>\n",
       "      <td>non-sexist</td>\n",
       "      <td>0</td>\n",
       "    </tr>\n",
       "    <tr>\n",
       "      <th>2</th>\n",
       "      <td>EXIST2021</td>\n",
       "      <td>3</td>\n",
       "      <td>twitter</td>\n",
       "      <td>en</td>\n",
       "      <td>wow , your skirt is very short . what is it's ...</td>\n",
       "      <td>sexist</td>\n",
       "      <td>objectification</td>\n",
       "      <td>1</td>\n",
       "    </tr>\n",
       "    <tr>\n",
       "      <th>3</th>\n",
       "      <td>EXIST2021</td>\n",
       "      <td>4</td>\n",
       "      <td>twitter</td>\n",
       "      <td>en</td>\n",
       "      <td>incredible ! beautiful ! but i laughed so much...</td>\n",
       "      <td>non-sexist</td>\n",
       "      <td>non-sexist</td>\n",
       "      <td>0</td>\n",
       "    </tr>\n",
       "    <tr>\n",
       "      <th>4</th>\n",
       "      <td>EXIST2021</td>\n",
       "      <td>5</td>\n",
       "      <td>twitter</td>\n",
       "      <td>en</td>\n",
       "      <td>i find it extremely hard to believe that kelly...</td>\n",
       "      <td>non-sexist</td>\n",
       "      <td>non-sexist</td>\n",
       "      <td>0</td>\n",
       "    </tr>\n",
       "  </tbody>\n",
       "</table>\n",
       "</div>"
      ],
      "text/plain": [
       "   test_case  id   source language  \\\n",
       "0  EXIST2021   1  twitter       en   \n",
       "1  EXIST2021   2  twitter       en   \n",
       "2  EXIST2021   3  twitter       en   \n",
       "3  EXIST2021   4  twitter       en   \n",
       "4  EXIST2021   5  twitter       en   \n",
       "\n",
       "                                                text       task1  \\\n",
       "0  she calls herself \" anti-feminazi \" how about ...      sexist   \n",
       "1  now , back to these women , the brave and the ...  non-sexist   \n",
       "2  wow , your skirt is very short . what is it's ...      sexist   \n",
       "3  incredible ! beautiful ! but i laughed so much...  non-sexist   \n",
       "4  i find it extremely hard to believe that kelly...  non-sexist   \n",
       "\n",
       "                    task2  label  \n",
       "0  ideological-inequality      1  \n",
       "1              non-sexist      0  \n",
       "2         objectification      1  \n",
       "3              non-sexist      0  \n",
       "4              non-sexist      0  "
      ]
     },
     "execution_count": 4,
     "metadata": {},
     "output_type": "execute_result"
    }
   ],
   "source": [
    "train_df = pd.read_csv('../../Data/EXIST2021_training.tsv', sep='\\t')\n",
    "\n",
    "# Un simple pre-procesamiento\n",
    "train_df['text'] = train_df['text'].apply(lambda text: preprocessing.preprocess(text))\n",
    "\n",
    "# Codificamos las etiquetas\n",
    "label_encoder = LabelEncoder()\n",
    "label_encoder.fit(train_df['task1'])\n",
    "\n",
    "train_df['label'] = label_encoder.transform(train_df['task1'])\n",
    "\n",
    "train_df.head()"
   ]
  },
  {
   "cell_type": "code",
   "execution_count": 5,
   "id": "toxic-income",
   "metadata": {},
   "outputs": [
    {
     "data": {
      "text/html": [
       "<div>\n",
       "<style scoped>\n",
       "    .dataframe tbody tr th:only-of-type {\n",
       "        vertical-align: middle;\n",
       "    }\n",
       "\n",
       "    .dataframe tbody tr th {\n",
       "        vertical-align: top;\n",
       "    }\n",
       "\n",
       "    .dataframe thead th {\n",
       "        text-align: right;\n",
       "    }\n",
       "</style>\n",
       "<table border=\"1\" class=\"dataframe\">\n",
       "  <thead>\n",
       "    <tr style=\"text-align: right;\">\n",
       "      <th></th>\n",
       "      <th>test_case</th>\n",
       "      <th>id</th>\n",
       "      <th>source</th>\n",
       "      <th>language</th>\n",
       "      <th>text</th>\n",
       "      <th>task1</th>\n",
       "      <th>task2</th>\n",
       "      <th>label</th>\n",
       "    </tr>\n",
       "  </thead>\n",
       "  <tbody>\n",
       "    <tr>\n",
       "      <th>0</th>\n",
       "      <td>EXIST2021</td>\n",
       "      <td>6978</td>\n",
       "      <td>gab</td>\n",
       "      <td>en</td>\n",
       "      <td>pennsylvania state rep horrifies with opening ...</td>\n",
       "      <td>non-sexist</td>\n",
       "      <td>non-sexist</td>\n",
       "      <td>0</td>\n",
       "    </tr>\n",
       "    <tr>\n",
       "      <th>1</th>\n",
       "      <td>EXIST2021</td>\n",
       "      <td>6979</td>\n",
       "      <td>twitter</td>\n",
       "      <td>en</td>\n",
       "      <td>he sounds like as ass , and very condescending .</td>\n",
       "      <td>non-sexist</td>\n",
       "      <td>non-sexist</td>\n",
       "      <td>0</td>\n",
       "    </tr>\n",
       "    <tr>\n",
       "      <th>2</th>\n",
       "      <td>EXIST2021</td>\n",
       "      <td>6980</td>\n",
       "      <td>twitter</td>\n",
       "      <td>en</td>\n",
       "      <td>lol ! \" this behavior of not letting men tell ...</td>\n",
       "      <td>sexist</td>\n",
       "      <td>ideological-inequality</td>\n",
       "      <td>1</td>\n",
       "    </tr>\n",
       "    <tr>\n",
       "      <th>3</th>\n",
       "      <td>EXIST2021</td>\n",
       "      <td>6981</td>\n",
       "      <td>twitter</td>\n",
       "      <td>en</td>\n",
       "      <td>rights ? i mean yeah most women especially the...</td>\n",
       "      <td>sexist</td>\n",
       "      <td>ideological-inequality</td>\n",
       "      <td>1</td>\n",
       "    </tr>\n",
       "    <tr>\n",
       "      <th>4</th>\n",
       "      <td>EXIST2021</td>\n",
       "      <td>6982</td>\n",
       "      <td>twitter</td>\n",
       "      <td>en</td>\n",
       "      <td>the jack manifold appreciation i ’ m seeing is...</td>\n",
       "      <td>non-sexist</td>\n",
       "      <td>non-sexist</td>\n",
       "      <td>0</td>\n",
       "    </tr>\n",
       "  </tbody>\n",
       "</table>\n",
       "</div>"
      ],
      "text/plain": [
       "   test_case    id   source language  \\\n",
       "0  EXIST2021  6978      gab       en   \n",
       "1  EXIST2021  6979  twitter       en   \n",
       "2  EXIST2021  6980  twitter       en   \n",
       "3  EXIST2021  6981  twitter       en   \n",
       "4  EXIST2021  6982  twitter       en   \n",
       "\n",
       "                                                text       task1  \\\n",
       "0  pennsylvania state rep horrifies with opening ...  non-sexist   \n",
       "1   he sounds like as ass , and very condescending .  non-sexist   \n",
       "2  lol ! \" this behavior of not letting men tell ...      sexist   \n",
       "3  rights ? i mean yeah most women especially the...      sexist   \n",
       "4  the jack manifold appreciation i ’ m seeing is...  non-sexist   \n",
       "\n",
       "                    task2  label  \n",
       "0              non-sexist      0  \n",
       "1              non-sexist      0  \n",
       "2  ideological-inequality      1  \n",
       "3  ideological-inequality      1  \n",
       "4              non-sexist      0  "
      ]
     },
     "execution_count": 5,
     "metadata": {},
     "output_type": "execute_result"
    }
   ],
   "source": [
    "test_df = pd.read_csv('../../Data/EXIST2021_test.tsv', sep='\\t')\n",
    "\n",
    "# Un simple pre-procesamiento\n",
    "test_df['text'] = test_df['text'].apply(lambda text: preprocessing.preprocess(text))\n",
    "\n",
    "test_df['label'] = label_encoder.transform(test_df['task1'])\n",
    "\n",
    "test_df.head()"
   ]
  },
  {
   "cell_type": "markdown",
   "id": "enhanced-spray",
   "metadata": {},
   "source": [
    "### Dataloaders"
   ]
  },
  {
   "cell_type": "markdown",
   "id": "wired-phase",
   "metadata": {},
   "source": [
    "En [Huggingface models](https://huggingface.co/models) están los modelos pre-entrenados disponibles. Usaré [bert-base-multilingual-uncased](https://huggingface.co/bert-base-multilingual-uncased) que está pre-entrenado en 102 idiomas con un corpus de Wikipedia."
   ]
  },
  {
   "cell_type": "code",
   "execution_count": 6,
   "id": "bright-vertical",
   "metadata": {},
   "outputs": [],
   "source": [
    "# tokenizer = BertTokenizer.from_pretrained('bert-base-multilingual-uncased')\n",
    "# bert = BertModel.from_pretrained('bert-base-multilingual-uncased')\n",
    "\n",
    "# tokenizer(['hello my name is dave']), tokenizer(['hola mi nombre es david'])"
   ]
  },
  {
   "cell_type": "code",
   "execution_count": 7,
   "id": "uniform-earthquake",
   "metadata": {},
   "outputs": [],
   "source": [
    "class DataSet:    \n",
    "    def __init__(self, file):\n",
    "        self.y = torch.tensor(file['label'].to_numpy(), dtype=torch.long)\n",
    "        self.texts = file['text'].tolist()\n",
    "        \n",
    "        self.tokenizer = BertTokenizer.from_pretrained('bert-base-multilingual-uncased')\n",
    "        \n",
    "    def __getitem__(self, i):\n",
    "        inputs1 = self.tokenizer(self.texts[i], max_length=128, padding='max_length', truncation=True, return_tensors='pt')\n",
    "        return torch.squeeze(inputs1['input_ids']), torch.squeeze(inputs1['attention_mask']), torch.squeeze(self.y[i])\n",
    "        \n",
    "    def __len__(self):\n",
    "        return len(self.y)\n",
    "    \n",
    "class DataSetText:\n",
    "    \n",
    "    def __init__(self, file):\n",
    "        self.y = torch.tensor(file['label'].to_numpy(), dtype=torch.long)\n",
    "        self.texts = file['text'].tolist()\n",
    "        \n",
    "        self.tokenizer = BertTokenizer.from_pretrained('bert-base-multilingual-uncased')\n",
    "        \n",
    "    def __getitem__(self, i):\n",
    "        inputs1 = self.tokenizer(self.texts[i], max_length=128, padding='max_length', truncation=True, return_tensors='pt')\n",
    "        return torch.squeeze(inputs1['input_ids']), torch.squeeze(inputs1['attention_mask']), torch.squeeze(self.y[i])\n",
    "        \n",
    "    def __len__(self):\n",
    "        return len(self.y)"
   ]
  },
  {
   "cell_type": "code",
   "execution_count": 8,
   "id": "crazy-namibia",
   "metadata": {},
   "outputs": [
    {
     "name": "stdout",
     "output_type": "stream",
     "text": [
      "Train: 6977\n",
      "Test: 4368\n"
     ]
    }
   ],
   "source": [
    "ds_text_train = DataSetText(train_df)\n",
    "ds_text_test = DataSetText(test_df)\n",
    "\n",
    "print(f'Train: {len(ds_text_train)}')\n",
    "print(f'Test: {len(ds_text_test)}')"
   ]
  },
  {
   "cell_type": "code",
   "execution_count": 9,
   "id": "automated-international",
   "metadata": {},
   "outputs": [],
   "source": [
    "# Si hago el batch más grande puede que no quepa en la GPU\n",
    "BATCH_SIZE = 8\n",
    "\n",
    "train_dl = DataLoader(\n",
    "    ds_text_train,\n",
    "    batch_size=BATCH_SIZE,\n",
    "    shuffle=True,\n",
    "    num_workers=4,\n",
    "    drop_last=True)\n",
    "\n",
    "test_dl = DataLoader(\n",
    "    ds_text_test,\n",
    "    batch_size=BATCH_SIZE,\n",
    "    shuffle=True,\n",
    "    num_workers=4)"
   ]
  },
  {
   "cell_type": "markdown",
   "id": "acute-blogger",
   "metadata": {},
   "source": [
    "## Modelo"
   ]
  },
  {
   "cell_type": "code",
   "execution_count": 10,
   "id": "northern-myrtle",
   "metadata": {},
   "outputs": [],
   "source": [
    "class SexismClassifier(nn.Module):\n",
    "    def __init__(self):\n",
    "        super(SexismClassifier, self).__init__()\n",
    "        self.bert = BertModel.from_pretrained('bert-base-multilingual-uncased')\n",
    "        \n",
    "        self.clf = nn.Sequential(nn.Linear(768, 2), \n",
    "                                 nn.Softmax(dim=1))\n",
    "        \n",
    "    def forward(self, ids, masks):\n",
    "        # [batch_size, max_length] -> [batch_size, max_length, 768]\n",
    "        bert_output = self.bert(input_ids=ids, attention_mask=masks, return_dict=True).last_hidden_state\n",
    "        \n",
    "        # [batch_size, max_length, 768] -> [batch_size, 768]\n",
    "        cls_output = bert_output[:,0,:]\n",
    "        \n",
    "        # [batch_size, 768] -> [batch_size, 2]\n",
    "        y = self.clf(cls_output)\n",
    "\n",
    "        return y "
   ]
  },
  {
   "cell_type": "code",
   "execution_count": 11,
   "id": "temporal-entry",
   "metadata": {
    "jupyter": {
     "source_hidden": true
    }
   },
   "outputs": [],
   "source": [
    "def infer(model, loader_test):\n",
    "    model.eval()\n",
    "    \n",
    "    Y = []\n",
    "    Y_hat = []\n",
    "\n",
    "    for ids, masks, y_true in loader_test:\n",
    "        ids = ids.to(device)\n",
    "        masks = masks.to(device)\n",
    "        y_true = y_true.to(device)\n",
    "\n",
    "        y_hat = model(ids, masks)\n",
    "\n",
    "        loss = F.cross_entropy(y_hat, y_true)\n",
    "\n",
    "        y_pred = torch.argmax(y_hat, 1)\n",
    "\n",
    "        Y.extend(y_true.cpu().numpy().tolist() )\n",
    "        Y_hat.extend(y_pred.cpu().numpy().tolist())\n",
    "        \n",
    "    return Y, Y_hat\n",
    "\n",
    "def test(model, loader_test):\n",
    "    model.eval()\n",
    "    \n",
    "    accs = []\n",
    "    \n",
    "    for ids, masks, y_true in loader_test:\n",
    "        ids = ids.to(device)\n",
    "        masks = masks.to(device)\n",
    "        y_true = y_true.to(device)\n",
    "        \n",
    "        y_hat = model(ids, masks)\n",
    "        \n",
    "        y_pred = torch.argmax(y_hat, 1)\n",
    "        \n",
    "        acc = (y_true == y_pred).type(torch.float32).mean()\n",
    "        \n",
    "        accs.append(acc.item())\n",
    "        \n",
    "    return np.mean(accs)\n",
    "        \n",
    "\n",
    "def train(model, loader, loader_test, epocas, lr=1e-5):\n",
    "    opt = optim.Adam(model.parameters(), lr=lr)\n",
    "    \n",
    "    accs_train, accs_test = [], []\n",
    "    \n",
    "    for epoca in range(epocas):\n",
    "        model.train()\n",
    "        \n",
    "        accs = []\n",
    "        for ids, masks, y_true in tqdm(loader):\n",
    "            opt.zero_grad()\n",
    "\n",
    "            ids = ids.to(device)\n",
    "            masks = masks.to(device)\n",
    "            y_true = y_true.to(device)\n",
    "            \n",
    "            y_hat = model(ids, masks)\n",
    "            \n",
    "            loss = F.cross_entropy(y_hat, y_true)\n",
    "            \n",
    "            y_pred = torch.argmax(y_hat, 1)\n",
    "            \n",
    "            acc = (y_true == y_pred).type(torch.float32).mean()\n",
    "            accs.append(acc.item())\n",
    "            \n",
    "            loss.backward()\n",
    "            opt.step()\n",
    "        \n",
    "        acc_train = np.mean(accs)\n",
    "        accs_train.append(acc_train)\n",
    "        \n",
    "        acc_test = test(model, loader_test)\n",
    "        accs_test.append(acc_test)\n",
    "        \n",
    "        print(f'Época {epoca}: train acc:{acc_train} test acc:{acc_test}')\n",
    "        \n",
    "    return accs_train, accs_test\n",
    "            "
   ]
  },
  {
   "cell_type": "code",
   "execution_count": 12,
   "id": "incoming-longer",
   "metadata": {},
   "outputs": [],
   "source": [
    "model = SexismClassifier().to(device)"
   ]
  },
  {
   "cell_type": "code",
   "execution_count": 15,
   "id": "jewish-twenty",
   "metadata": {},
   "outputs": [],
   "source": [
    "# berttokenizer = BertTokenizer.from_pretrained('bert-base-multilingual-uncased')\n",
    "\n",
    "# review = 'die bitch, you are the worst'\n",
    "# berttokenizer_dict = berttokenizer(review, max_length=128, padding='max_length', truncation=True, return_tensors='pt')\n",
    "# input_ids = berttokenizer_dict['input_ids']\n",
    "# attention_mask = berttokenizer_dict['attention_mask']\n",
    "\n",
    "# model(input_ids, attention_mask)"
   ]
  },
  {
   "cell_type": "code",
   "execution_count": 16,
   "id": "pediatric-mongolia",
   "metadata": {},
   "outputs": [
    {
     "data": {
      "text/plain": [
       "=================================================================\n",
       "Layer (type:depth-idx)                   Param #\n",
       "=================================================================\n",
       "├─BertModel: 1-1                         --\n",
       "|    └─BertEmbeddings: 2-1               --\n",
       "|    |    └─Embedding: 3-1               81,315,072\n",
       "|    |    └─Embedding: 3-2               393,216\n",
       "|    |    └─Embedding: 3-3               1,536\n",
       "|    |    └─LayerNorm: 3-4               1,536\n",
       "|    |    └─Dropout: 3-5                 --\n",
       "|    └─BertEncoder: 2-2                  --\n",
       "|    |    └─ModuleList: 3-6              85,054,464\n",
       "|    └─BertPooler: 2-3                   --\n",
       "|    |    └─Linear: 3-7                  590,592\n",
       "|    |    └─Tanh: 3-8                    --\n",
       "├─Sequential: 1-2                        --\n",
       "|    └─Linear: 2-4                       1,538\n",
       "|    └─Softmax: 2-5                      --\n",
       "=================================================================\n",
       "Total params: 167,357,954\n",
       "Trainable params: 167,357,954\n",
       "Non-trainable params: 0\n",
       "================================================================="
      ]
     },
     "execution_count": 16,
     "metadata": {},
     "output_type": "execute_result"
    }
   ],
   "source": [
    "summary(model)"
   ]
  },
  {
   "cell_type": "code",
   "execution_count": 17,
   "id": "selective-midnight",
   "metadata": {},
   "outputs": [
    {
     "name": "stderr",
     "output_type": "stream",
     "text": [
      "100%|██████████| 872/872 [02:06<00:00,  6.87it/s]\n",
      "  0%|          | 0/872 [00:00<?, ?it/s]"
     ]
    },
    {
     "name": "stdout",
     "output_type": "stream",
     "text": [
      "Época 0: train acc:0.6786123853211009 test acc:0.7227564102564102\n"
     ]
    },
    {
     "name": "stderr",
     "output_type": "stream",
     "text": [
      "100%|██████████| 872/872 [02:12<00:00,  6.60it/s]\n",
      "  0%|          | 0/872 [00:00<?, ?it/s]"
     ]
    },
    {
     "name": "stdout",
     "output_type": "stream",
     "text": [
      "Época 1: train acc:0.7834002293577982 test acc:0.7564102564102564\n"
     ]
    },
    {
     "name": "stderr",
     "output_type": "stream",
     "text": [
      "100%|██████████| 872/872 [02:10<00:00,  6.67it/s]\n",
      "  0%|          | 0/872 [00:00<?, ?it/s]"
     ]
    },
    {
     "name": "stdout",
     "output_type": "stream",
     "text": [
      "Época 2: train acc:0.8380160550458715 test acc:0.7481684981684982\n"
     ]
    },
    {
     "name": "stderr",
     "output_type": "stream",
     "text": [
      "100%|██████████| 872/872 [02:11<00:00,  6.64it/s]\n",
      "  0%|          | 0/872 [00:00<?, ?it/s]"
     ]
    },
    {
     "name": "stdout",
     "output_type": "stream",
     "text": [
      "Época 3: train acc:0.8631020642201835 test acc:0.7486263736263736\n"
     ]
    },
    {
     "name": "stderr",
     "output_type": "stream",
     "text": [
      "100%|██████████| 872/872 [02:08<00:00,  6.76it/s]\n"
     ]
    },
    {
     "name": "stdout",
     "output_type": "stream",
     "text": [
      "Época 4: train acc:0.8828841743119266 test acc:0.7227564102564102\n",
      "CPU times: user 12min 3s, sys: 26.5 s, total: 12min 30s\n",
      "Wall time: 12min 32s\n"
     ]
    }
   ],
   "source": [
    "%time accs_train, accs_test = train(model, train_dl, test_dl, epocas=5)"
   ]
  },
  {
   "cell_type": "code",
   "execution_count": 18,
   "id": "familiar-ceiling",
   "metadata": {},
   "outputs": [
    {
     "data": {
      "image/png": "[encoded data removed]",
      "text/plain": [
       "<Figure size 720x432 with 1 Axes>"
      ]
     },
     "metadata": {},
     "output_type": "display_data"
    }
   ],
   "source": [
    "plt.figure(figsize=(10,6))\n",
    "plt.plot(accs_train, label='Train')\n",
    "plt.plot(accs_test, label='Test')\n",
    "\n",
    "plt.xlabel('Épocas', weight='bold')\n",
    "plt.ylabel('Accuracy', weight='bold')\n",
    "plt.legend()\n",
    "\n",
    "plt.show()"
   ]
  },
  {
   "cell_type": "markdown",
   "id": "antique-pendant",
   "metadata": {},
   "source": [
    "- Quizás agregar una capa de `Dropout` para que el accuracy no caiga en test.\n",
    "- "
   ]
  }
 ],
 "metadata": {
  "kernelspec": {
   "display_name": "Python 3",
   "language": "python",
   "name": "python3"
  },
  "language_info": {
   "codemirror_mode": {
    "name": "ipython",
    "version": 3
   },
   "file_extension": ".py",
   "mimetype": "text/x-python",
   "name": "python",
   "nbconvert_exporter": "python",
   "pygments_lexer": "ipython3",
   "version": "3.7.3"
  }
 },
 "nbformat": 4,
 "nbformat_minor": 5
}
