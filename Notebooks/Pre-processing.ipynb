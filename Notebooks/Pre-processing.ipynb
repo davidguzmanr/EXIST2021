{
 "cells": [
  {
   "cell_type": "code",
   "execution_count": 15,
   "id": "organized-interest",
   "metadata": {},
   "outputs": [],
   "source": [
    "from autocorrect import Speller\n",
    "import pandas as pd"
   ]
  },
  {
   "cell_type": "code",
   "execution_count": 12,
   "id": "dimensional-cancer",
   "metadata": {},
   "outputs": [],
   "source": [
    "spell = Speller(lang='en', fast=True)"
   ]
  },
  {
   "cell_type": "code",
   "execution_count": 13,
   "id": "stupid-rover",
   "metadata": {},
   "outputs": [],
   "source": [
    "text = \"He doesn't know what rape means sbut he'll do it to you.\""
   ]
  },
  {
   "cell_type": "code",
   "execution_count": 14,
   "id": "excited-scratch",
   "metadata": {},
   "outputs": [
    {
     "data": {
      "text/plain": [
       "\"He doesn't know what rape means but he'll do it to you.\""
      ]
     },
     "execution_count": 14,
     "metadata": {},
     "output_type": "execute_result"
    }
   ],
   "source": [
    "spell(text)"
   ]
  },
  {
   "cell_type": "code",
   "execution_count": 20,
   "id": "gross-reminder",
   "metadata": {},
   "outputs": [
    {
     "data": {
      "text/html": [
       "<div>\n",
       "<style scoped>\n",
       "    .dataframe tbody tr th:only-of-type {\n",
       "        vertical-align: middle;\n",
       "    }\n",
       "\n",
       "    .dataframe tbody tr th {\n",
       "        vertical-align: top;\n",
       "    }\n",
       "\n",
       "    .dataframe thead th {\n",
       "        text-align: right;\n",
       "    }\n",
       "</style>\n",
       "<table border=\"1\" class=\"dataframe\">\n",
       "  <thead>\n",
       "    <tr style=\"text-align: right;\">\n",
       "      <th></th>\n",
       "      <th>test_case</th>\n",
       "      <th>id</th>\n",
       "      <th>source</th>\n",
       "      <th>language</th>\n",
       "      <th>text</th>\n",
       "      <th>task1</th>\n",
       "      <th>task2</th>\n",
       "    </tr>\n",
       "  </thead>\n",
       "  <tbody>\n",
       "    <tr>\n",
       "      <th>0</th>\n",
       "      <td>EXIST2021</td>\n",
       "      <td>1</td>\n",
       "      <td>twitter</td>\n",
       "      <td>en</td>\n",
       "      <td>She calls herself \"anti-feminazi\" how about sh...</td>\n",
       "      <td>sexist</td>\n",
       "      <td>ideological-inequality</td>\n",
       "    </tr>\n",
       "    <tr>\n",
       "      <th>1</th>\n",
       "      <td>EXIST2021</td>\n",
       "      <td>2</td>\n",
       "      <td>twitter</td>\n",
       "      <td>en</td>\n",
       "      <td>Now, back to these women, the brave and the be...</td>\n",
       "      <td>non-sexist</td>\n",
       "      <td>non-sexist</td>\n",
       "    </tr>\n",
       "    <tr>\n",
       "      <th>2</th>\n",
       "      <td>EXIST2021</td>\n",
       "      <td>3</td>\n",
       "      <td>twitter</td>\n",
       "      <td>en</td>\n",
       "      <td>@CurvyBandida @Xalynne_B Wow, your skirt is ve...</td>\n",
       "      <td>sexist</td>\n",
       "      <td>objectification</td>\n",
       "    </tr>\n",
       "    <tr>\n",
       "      <th>3</th>\n",
       "      <td>EXIST2021</td>\n",
       "      <td>4</td>\n",
       "      <td>twitter</td>\n",
       "      <td>en</td>\n",
       "      <td>@AurelieGuiboud Incredible!  Beautiful!But I l...</td>\n",
       "      <td>non-sexist</td>\n",
       "      <td>non-sexist</td>\n",
       "    </tr>\n",
       "    <tr>\n",
       "      <th>4</th>\n",
       "      <td>EXIST2021</td>\n",
       "      <td>5</td>\n",
       "      <td>twitter</td>\n",
       "      <td>en</td>\n",
       "      <td>i find it extremely hard to believe that kelly...</td>\n",
       "      <td>non-sexist</td>\n",
       "      <td>non-sexist</td>\n",
       "    </tr>\n",
       "  </tbody>\n",
       "</table>\n",
       "</div>"
      ],
      "text/plain": [
       "   test_case  id   source language  \\\n",
       "0  EXIST2021   1  twitter       en   \n",
       "1  EXIST2021   2  twitter       en   \n",
       "2  EXIST2021   3  twitter       en   \n",
       "3  EXIST2021   4  twitter       en   \n",
       "4  EXIST2021   5  twitter       en   \n",
       "\n",
       "                                                text       task1  \\\n",
       "0  She calls herself \"anti-feminazi\" how about sh...      sexist   \n",
       "1  Now, back to these women, the brave and the be...  non-sexist   \n",
       "2  @CurvyBandida @Xalynne_B Wow, your skirt is ve...      sexist   \n",
       "3  @AurelieGuiboud Incredible!  Beautiful!But I l...  non-sexist   \n",
       "4  i find it extremely hard to believe that kelly...  non-sexist   \n",
       "\n",
       "                    task2  \n",
       "0  ideological-inequality  \n",
       "1              non-sexist  \n",
       "2         objectification  \n",
       "3              non-sexist  \n",
       "4              non-sexist  "
      ]
     },
     "execution_count": 20,
     "metadata": {},
     "output_type": "execute_result"
    }
   ],
   "source": [
    "data = pd.read_csv('../Data/EXIST2021_training.tsv', sep='\\t')\n",
    "data_en = data[data['language'] == 'en']\n",
    "data_en.head()"
   ]
  },
  {
   "cell_type": "code",
   "execution_count": 38,
   "id": "gentle-article",
   "metadata": {},
   "outputs": [
    {
     "name": "stdout",
     "output_type": "stream",
     "text": [
      "CPU times: user 2.11 s, sys: 0 ns, total: 2.11 s\n",
      "Wall time: 2.11 s\n"
     ]
    }
   ],
   "source": [
    "spell = Speller(lang='en', fast=True)\n",
    "%time data_fast = data_en['text'].apply(lambda text: spell(text))"
   ]
  },
  {
   "cell_type": "code",
   "execution_count": 39,
   "id": "vocal-printing",
   "metadata": {},
   "outputs": [
    {
     "name": "stdout",
     "output_type": "stream",
     "text": [
      "CPU times: user 14min 9s, sys: 232 ms, total: 14min 9s\n",
      "Wall time: 14min 10s\n"
     ]
    }
   ],
   "source": [
    "spell = Speller(lang='en', fast=False)\n",
    "%time data_slow = data_en['text'].apply(lambda text: spell(text))"
   ]
  },
  {
   "cell_type": "code",
   "execution_count": 41,
   "id": "compressed-nitrogen",
   "metadata": {},
   "outputs": [
    {
     "data": {
      "text/plain": [
       "2010"
      ]
     },
     "execution_count": 41,
     "metadata": {},
     "output_type": "execute_result"
    }
   ],
   "source": [
    "(data_fast == data_slow).sum()"
   ]
  }
 ],
 "metadata": {
  "kernelspec": {
   "display_name": "Python 3",
   "language": "python",
   "name": "python3"
  },
  "language_info": {
   "codemirror_mode": {
    "name": "ipython",
    "version": 3
   },
   "file_extension": ".py",
   "mimetype": "text/x-python",
   "name": "python",
   "nbconvert_exporter": "python",
   "pygments_lexer": "ipython3",
   "version": "3.7.3"
  }
 },
 "nbformat": 4,
 "nbformat_minor": 5
}
