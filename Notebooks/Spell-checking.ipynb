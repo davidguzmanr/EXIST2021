{
 "cells": [
  {
   "cell_type": "markdown",
   "id": "smooth-columbia",
   "metadata": {},
   "source": [
    "# Spell-checking\n",
    "\n",
    "Checando manualmente los datos hay muchos que tienen errores, lo que es de esperar pues la mayoría vienen de Twitter. Sería conveniente aplicar un corrector:\n",
    "\n",
    "-  [contextualSpellCheck](https://spacy.io/universe/project/contextualSpellCheck), de SpaCy, se ve bien ya que usa Bert, pero cambia demasiado los nombres propios y otras entidades por sus respectivos pronombres. Además, borra ciertas groserias y otras palabras que pueden ser importantes para esta tarea.\n",
    "- [Autocorrect](https://github.com/fsondej/autocorrect) se ve bien aunque es más sencillo, si no reconoce algo lo deja como está, es probable que se me vayan más errores ortográficos con esta librería. Sin embargo, también borra ciertas groserias y otras palabras que pueden ser importantes para esta tarea. \n",
    "- [pyspellchecker](https://github.com/barrust/pyspellchecker) también se ve bien. A diferencia de las anteriores, deja las groserias y otras palabras que pueden ser importantes para esta tarea intactas, de modo que me quedaré con este.\n",
    "\n",
    "El inconveniente es que es un poco tardado hacer este spell-check."
   ]
  },
  {
   "cell_type": "code",
   "execution_count": 1,
   "id": "included-albania",
   "metadata": {},
   "outputs": [],
   "source": [
    "import pandas as pd\n",
    "import re\n",
    "from tqdm import tqdm, trange\n",
    "\n",
    "from utils import preprocessing"
   ]
  },
  {
   "cell_type": "code",
   "execution_count": 2,
   "id": "working-fiber",
   "metadata": {},
   "outputs": [
    {
     "name": "stdout",
     "output_type": "stream",
     "text": [
      "CPU times: user 653 µs, sys: 0 ns, total: 653 µs\n",
      "Wall time: 656 µs\n"
     ]
    },
    {
     "data": {
      "text/plain": [
       "'Bitches be begging me to follow them just to give me a reason not to follow them . Lol @ david _ guzman'"
      ]
     },
     "execution_count": 2,
     "metadata": {},
     "output_type": "execute_result"
    }
   ],
   "source": [
    "text = \"Bitches be begging me to follw them just to give me a reason not to follw them. Lol @david_guzman\"\n",
    "%time preprocessing.spell_check(text, language='en')"
   ]
  },
  {
   "cell_type": "code",
   "execution_count": 3,
   "id": "finite-afternoon",
   "metadata": {},
   "outputs": [
    {
     "data": {
      "text/plain": [
       "'Las putas me ruegan que las siga solo para darme una razón para no seguirlas . Lol @ david _ gustan'"
      ]
     },
     "execution_count": 3,
     "metadata": {},
     "output_type": "execute_result"
    }
   ],
   "source": [
    "text = \"Las putass me ruegan que las sigaa solo para darme una razón para no seguirlass. Lol @david_guzman\"\n",
    "preprocessing.spell_check(text, language='es')"
   ]
  },
  {
   "cell_type": "markdown",
   "id": "owned-seeking",
   "metadata": {},
   "source": [
    "## Train"
   ]
  },
  {
   "cell_type": "code",
   "execution_count": 4,
   "id": "congressional-championship",
   "metadata": {},
   "outputs": [
    {
     "data": {
      "text/html": [
       "<div>\n",
       "<style scoped>\n",
       "    .dataframe tbody tr th:only-of-type {\n",
       "        vertical-align: middle;\n",
       "    }\n",
       "\n",
       "    .dataframe tbody tr th {\n",
       "        vertical-align: top;\n",
       "    }\n",
       "\n",
       "    .dataframe thead th {\n",
       "        text-align: right;\n",
       "    }\n",
       "</style>\n",
       "<table border=\"1\" class=\"dataframe\">\n",
       "  <thead>\n",
       "    <tr style=\"text-align: right;\">\n",
       "      <th></th>\n",
       "      <th>test_case</th>\n",
       "      <th>id</th>\n",
       "      <th>source</th>\n",
       "      <th>language</th>\n",
       "      <th>text</th>\n",
       "      <th>task1</th>\n",
       "      <th>task2</th>\n",
       "    </tr>\n",
       "  </thead>\n",
       "  <tbody>\n",
       "    <tr>\n",
       "      <th>0</th>\n",
       "      <td>EXIST2021</td>\n",
       "      <td>1</td>\n",
       "      <td>twitter</td>\n",
       "      <td>en</td>\n",
       "      <td>she calls herself \" anti-feminazi \" how about ...</td>\n",
       "      <td>sexist</td>\n",
       "      <td>ideological-inequality</td>\n",
       "    </tr>\n",
       "    <tr>\n",
       "      <th>1</th>\n",
       "      <td>EXIST2021</td>\n",
       "      <td>2</td>\n",
       "      <td>twitter</td>\n",
       "      <td>en</td>\n",
       "      <td>now , back to these women , the brave and the ...</td>\n",
       "      <td>non-sexist</td>\n",
       "      <td>non-sexist</td>\n",
       "    </tr>\n",
       "    <tr>\n",
       "      <th>2</th>\n",
       "      <td>EXIST2021</td>\n",
       "      <td>3</td>\n",
       "      <td>twitter</td>\n",
       "      <td>en</td>\n",
       "      <td>wow , your skirt is very short . what is it's ...</td>\n",
       "      <td>sexist</td>\n",
       "      <td>objectification</td>\n",
       "    </tr>\n",
       "    <tr>\n",
       "      <th>3</th>\n",
       "      <td>EXIST2021</td>\n",
       "      <td>4</td>\n",
       "      <td>twitter</td>\n",
       "      <td>en</td>\n",
       "      <td>incredible ! beautiful ! but i laughed so much...</td>\n",
       "      <td>non-sexist</td>\n",
       "      <td>non-sexist</td>\n",
       "    </tr>\n",
       "    <tr>\n",
       "      <th>4</th>\n",
       "      <td>EXIST2021</td>\n",
       "      <td>5</td>\n",
       "      <td>twitter</td>\n",
       "      <td>en</td>\n",
       "      <td>i find it extremely hard to believe that kelly...</td>\n",
       "      <td>non-sexist</td>\n",
       "      <td>non-sexist</td>\n",
       "    </tr>\n",
       "  </tbody>\n",
       "</table>\n",
       "</div>"
      ],
      "text/plain": [
       "   test_case  id   source language  \\\n",
       "0  EXIST2021   1  twitter       en   \n",
       "1  EXIST2021   2  twitter       en   \n",
       "2  EXIST2021   3  twitter       en   \n",
       "3  EXIST2021   4  twitter       en   \n",
       "4  EXIST2021   5  twitter       en   \n",
       "\n",
       "                                                text       task1  \\\n",
       "0  she calls herself \" anti-feminazi \" how about ...      sexist   \n",
       "1  now , back to these women , the brave and the ...  non-sexist   \n",
       "2  wow , your skirt is very short . what is it's ...      sexist   \n",
       "3  incredible ! beautiful ! but i laughed so much...  non-sexist   \n",
       "4  i find it extremely hard to believe that kelly...  non-sexist   \n",
       "\n",
       "                    task2  \n",
       "0  ideological-inequality  \n",
       "1              non-sexist  \n",
       "2         objectification  \n",
       "3              non-sexist  \n",
       "4              non-sexist  "
      ]
     },
     "execution_count": 4,
     "metadata": {},
     "output_type": "execute_result"
    }
   ],
   "source": [
    "train_df = pd.read_csv('../../Data/EXIST2021_training.tsv', sep='\\t')\n",
    "\n",
    "# Un simple pre-procesamiento\n",
    "train_df['text'] = train_df['text'].apply(lambda text: preprocessing.preprocess(text))\n",
    "\n",
    "train_df.head()"
   ]
  },
  {
   "cell_type": "code",
   "execution_count": 6,
   "id": "valid-buying",
   "metadata": {},
   "outputs": [
    {
     "name": "stderr",
     "output_type": "stream",
     "text": [
      "100%|██████████| 6977/6977 [19:42<00:00,  5.90it/s] \n"
     ]
    }
   ],
   "source": [
    "corrected_text = []\n",
    "\n",
    "for value in tqdm(train_df[['language', 'text']].values):\n",
    "    language, text = value\n",
    "    \n",
    "    corrected_text.append(preprocessing.spell_check(text, language=language))"
   ]
  },
  {
   "cell_type": "code",
   "execution_count": 7,
   "id": "swiss-nashville",
   "metadata": {},
   "outputs": [],
   "source": [
    "train_df['text'] = corrected_text\n",
    "train_df.to_csv('../../Data/EXIST2021_training_spell_checked.csv', index=False)"
   ]
  },
  {
   "cell_type": "markdown",
   "id": "functional-february",
   "metadata": {},
   "source": [
    "## Test"
   ]
  },
  {
   "cell_type": "code",
   "execution_count": 8,
   "id": "developmental-dressing",
   "metadata": {},
   "outputs": [
    {
     "data": {
      "text/html": [
       "<div>\n",
       "<style scoped>\n",
       "    .dataframe tbody tr th:only-of-type {\n",
       "        vertical-align: middle;\n",
       "    }\n",
       "\n",
       "    .dataframe tbody tr th {\n",
       "        vertical-align: top;\n",
       "    }\n",
       "\n",
       "    .dataframe thead th {\n",
       "        text-align: right;\n",
       "    }\n",
       "</style>\n",
       "<table border=\"1\" class=\"dataframe\">\n",
       "  <thead>\n",
       "    <tr style=\"text-align: right;\">\n",
       "      <th></th>\n",
       "      <th>test_case</th>\n",
       "      <th>id</th>\n",
       "      <th>source</th>\n",
       "      <th>language</th>\n",
       "      <th>text</th>\n",
       "      <th>task1</th>\n",
       "      <th>task2</th>\n",
       "    </tr>\n",
       "  </thead>\n",
       "  <tbody>\n",
       "    <tr>\n",
       "      <th>0</th>\n",
       "      <td>EXIST2021</td>\n",
       "      <td>6978</td>\n",
       "      <td>gab</td>\n",
       "      <td>en</td>\n",
       "      <td>pennsylvania state rep horrifies with opening ...</td>\n",
       "      <td>non-sexist</td>\n",
       "      <td>non-sexist</td>\n",
       "    </tr>\n",
       "    <tr>\n",
       "      <th>1</th>\n",
       "      <td>EXIST2021</td>\n",
       "      <td>6979</td>\n",
       "      <td>twitter</td>\n",
       "      <td>en</td>\n",
       "      <td>he sounds like as ass , and very condescending .</td>\n",
       "      <td>non-sexist</td>\n",
       "      <td>non-sexist</td>\n",
       "    </tr>\n",
       "    <tr>\n",
       "      <th>2</th>\n",
       "      <td>EXIST2021</td>\n",
       "      <td>6980</td>\n",
       "      <td>twitter</td>\n",
       "      <td>en</td>\n",
       "      <td>lol ! \" this behavior of not letting men tell ...</td>\n",
       "      <td>sexist</td>\n",
       "      <td>ideological-inequality</td>\n",
       "    </tr>\n",
       "    <tr>\n",
       "      <th>3</th>\n",
       "      <td>EXIST2021</td>\n",
       "      <td>6981</td>\n",
       "      <td>twitter</td>\n",
       "      <td>en</td>\n",
       "      <td>rights ? i mean yeah most women especially the...</td>\n",
       "      <td>sexist</td>\n",
       "      <td>ideological-inequality</td>\n",
       "    </tr>\n",
       "    <tr>\n",
       "      <th>4</th>\n",
       "      <td>EXIST2021</td>\n",
       "      <td>6982</td>\n",
       "      <td>twitter</td>\n",
       "      <td>en</td>\n",
       "      <td>the jack manifold appreciation i ’ m seeing is...</td>\n",
       "      <td>non-sexist</td>\n",
       "      <td>non-sexist</td>\n",
       "    </tr>\n",
       "  </tbody>\n",
       "</table>\n",
       "</div>"
      ],
      "text/plain": [
       "   test_case    id   source language  \\\n",
       "0  EXIST2021  6978      gab       en   \n",
       "1  EXIST2021  6979  twitter       en   \n",
       "2  EXIST2021  6980  twitter       en   \n",
       "3  EXIST2021  6981  twitter       en   \n",
       "4  EXIST2021  6982  twitter       en   \n",
       "\n",
       "                                                text       task1  \\\n",
       "0  pennsylvania state rep horrifies with opening ...  non-sexist   \n",
       "1   he sounds like as ass , and very condescending .  non-sexist   \n",
       "2  lol ! \" this behavior of not letting men tell ...      sexist   \n",
       "3  rights ? i mean yeah most women especially the...      sexist   \n",
       "4  the jack manifold appreciation i ’ m seeing is...  non-sexist   \n",
       "\n",
       "                    task2  \n",
       "0              non-sexist  \n",
       "1              non-sexist  \n",
       "2  ideological-inequality  \n",
       "3  ideological-inequality  \n",
       "4              non-sexist  "
      ]
     },
     "execution_count": 8,
     "metadata": {},
     "output_type": "execute_result"
    }
   ],
   "source": [
    "test_df = pd.read_csv('../../Data/EXIST2021_test.tsv', sep='\\t')\n",
    "\n",
    "# Un simple pre-procesamiento\n",
    "test_df['text'] = test_df['text'].apply(lambda text: preprocessing.preprocess(text))\n",
    "\n",
    "test_df.head()"
   ]
  },
  {
   "cell_type": "code",
   "execution_count": 9,
   "id": "japanese-enhancement",
   "metadata": {},
   "outputs": [
    {
     "name": "stderr",
     "output_type": "stream",
     "text": [
      "100%|██████████| 4368/4368 [11:37<00:00,  6.26it/s]\n"
     ]
    }
   ],
   "source": [
    "corrected_text = []\n",
    "\n",
    "for value in tqdm(test_df[['language', 'text']].values):\n",
    "    language, text = value\n",
    "    \n",
    "    corrected_text.append(preprocessing.spell_check(text, language=language))"
   ]
  },
  {
   "cell_type": "code",
   "execution_count": 10,
   "id": "minimal-scope",
   "metadata": {},
   "outputs": [],
   "source": [
    "test_df['text'] = corrected_text\n",
    "test_df.to_csv('../../Data/EXIST2021_test_spell_checked.csv', index=False)"
   ]
  },
  {
   "cell_type": "code",
   "execution_count": null,
   "id": "minor-candle",
   "metadata": {},
   "outputs": [],
   "source": []
  }
 ],
 "metadata": {
  "kernelspec": {
   "display_name": "Python 3",
   "language": "python",
   "name": "python3"
  },
  "language_info": {
   "codemirror_mode": {
    "name": "ipython",
    "version": 3
   },
   "file_extension": ".py",
   "mimetype": "text/x-python",
   "name": "python",
   "nbconvert_exporter": "python",
   "pygments_lexer": "ipython3",
   "version": "3.7.3"
  }
 },
 "nbformat": 4,
 "nbformat_minor": 5
}
