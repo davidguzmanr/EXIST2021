{
 "cells": [
  {
   "cell_type": "markdown",
   "id": "knowing-illinois",
   "metadata": {},
   "source": [
    "# Exploratory Data Analysis"
   ]
  },
  {
   "cell_type": "code",
   "execution_count": 1,
   "id": "portuguese-brighton",
   "metadata": {},
   "outputs": [],
   "source": [
    "import pandas as pd\n",
    "import numpy as np\n",
    "import matplotlib.pyplot as plt\n",
    "import seaborn as sns\n",
    "\n",
    "sns.set_style('darkgrid')"
   ]
  },
  {
   "cell_type": "code",
   "execution_count": 2,
   "id": "varied-medium",
   "metadata": {},
   "outputs": [],
   "source": [
    "# To plot using LaTeX, sometimes it gives trouble depending on your LaTeX installation,\n",
    "# in that case set LaTeX = False\n",
    "LaTeX = True\n",
    "\n",
    "if LaTeX:\n",
    "    plt.rc('text', usetex=True)\n",
    "    plt.rc('font', family='serif')\n",
    "    \n",
    "def bold_latex(text, latex=LaTeX):\n",
    "    if latex:\n",
    "        return '\\\\textbf{' + text + '}' \n",
    "    else:\n",
    "        return text"
   ]
  },
  {
   "cell_type": "markdown",
   "id": "ignored-newspaper",
   "metadata": {},
   "source": [
    "## Datos"
   ]
  },
  {
   "cell_type": "code",
   "execution_count": 3,
   "id": "initial-mongolia",
   "metadata": {},
   "outputs": [
    {
     "data": {
      "text/html": [
       "<div>\n",
       "<style scoped>\n",
       "    .dataframe tbody tr th:only-of-type {\n",
       "        vertical-align: middle;\n",
       "    }\n",
       "\n",
       "    .dataframe tbody tr th {\n",
       "        vertical-align: top;\n",
       "    }\n",
       "\n",
       "    .dataframe thead th {\n",
       "        text-align: right;\n",
       "    }\n",
       "</style>\n",
       "<table border=\"1\" class=\"dataframe\">\n",
       "  <thead>\n",
       "    <tr style=\"text-align: right;\">\n",
       "      <th></th>\n",
       "      <th>test_case</th>\n",
       "      <th>id</th>\n",
       "      <th>source</th>\n",
       "      <th>language</th>\n",
       "      <th>text</th>\n",
       "      <th>task1</th>\n",
       "      <th>task2</th>\n",
       "    </tr>\n",
       "  </thead>\n",
       "  <tbody>\n",
       "    <tr>\n",
       "      <th>0</th>\n",
       "      <td>EXIST2021</td>\n",
       "      <td>1</td>\n",
       "      <td>twitter</td>\n",
       "      <td>en</td>\n",
       "      <td>She calls herself \"anti-feminazi\" how about sh...</td>\n",
       "      <td>sexist</td>\n",
       "      <td>ideological-inequality</td>\n",
       "    </tr>\n",
       "    <tr>\n",
       "      <th>1</th>\n",
       "      <td>EXIST2021</td>\n",
       "      <td>2</td>\n",
       "      <td>twitter</td>\n",
       "      <td>en</td>\n",
       "      <td>Now, back to these women, the brave and the be...</td>\n",
       "      <td>non-sexist</td>\n",
       "      <td>non-sexist</td>\n",
       "    </tr>\n",
       "    <tr>\n",
       "      <th>2</th>\n",
       "      <td>EXIST2021</td>\n",
       "      <td>3</td>\n",
       "      <td>twitter</td>\n",
       "      <td>en</td>\n",
       "      <td>@CurvyBandida @Xalynne_B Wow, your skirt is ve...</td>\n",
       "      <td>sexist</td>\n",
       "      <td>objectification</td>\n",
       "    </tr>\n",
       "    <tr>\n",
       "      <th>3</th>\n",
       "      <td>EXIST2021</td>\n",
       "      <td>4</td>\n",
       "      <td>twitter</td>\n",
       "      <td>en</td>\n",
       "      <td>@AurelieGuiboud Incredible!  Beautiful!But I l...</td>\n",
       "      <td>non-sexist</td>\n",
       "      <td>non-sexist</td>\n",
       "    </tr>\n",
       "    <tr>\n",
       "      <th>4</th>\n",
       "      <td>EXIST2021</td>\n",
       "      <td>5</td>\n",
       "      <td>twitter</td>\n",
       "      <td>en</td>\n",
       "      <td>i find it extremely hard to believe that kelly...</td>\n",
       "      <td>non-sexist</td>\n",
       "      <td>non-sexist</td>\n",
       "    </tr>\n",
       "  </tbody>\n",
       "</table>\n",
       "</div>"
      ],
      "text/plain": [
       "   test_case  id   source language  \\\n",
       "0  EXIST2021   1  twitter       en   \n",
       "1  EXIST2021   2  twitter       en   \n",
       "2  EXIST2021   3  twitter       en   \n",
       "3  EXIST2021   4  twitter       en   \n",
       "4  EXIST2021   5  twitter       en   \n",
       "\n",
       "                                                text       task1  \\\n",
       "0  She calls herself \"anti-feminazi\" how about sh...      sexist   \n",
       "1  Now, back to these women, the brave and the be...  non-sexist   \n",
       "2  @CurvyBandida @Xalynne_B Wow, your skirt is ve...      sexist   \n",
       "3  @AurelieGuiboud Incredible!  Beautiful!But I l...  non-sexist   \n",
       "4  i find it extremely hard to believe that kelly...  non-sexist   \n",
       "\n",
       "                    task2  \n",
       "0  ideological-inequality  \n",
       "1              non-sexist  \n",
       "2         objectification  \n",
       "3              non-sexist  \n",
       "4              non-sexist  "
      ]
     },
     "execution_count": 3,
     "metadata": {},
     "output_type": "execute_result"
    }
   ],
   "source": [
    "train_df = pd.read_csv('../Data/EXIST2021_training.tsv', sep='\\t')\n",
    "train_df.head()"
   ]
  },
  {
   "cell_type": "code",
   "execution_count": 4,
   "id": "personalized-description",
   "metadata": {},
   "outputs": [
    {
     "data": {
      "text/html": [
       "<div>\n",
       "<style scoped>\n",
       "    .dataframe tbody tr th:only-of-type {\n",
       "        vertical-align: middle;\n",
       "    }\n",
       "\n",
       "    .dataframe tbody tr th {\n",
       "        vertical-align: top;\n",
       "    }\n",
       "\n",
       "    .dataframe thead th {\n",
       "        text-align: right;\n",
       "    }\n",
       "</style>\n",
       "<table border=\"1\" class=\"dataframe\">\n",
       "  <thead>\n",
       "    <tr style=\"text-align: right;\">\n",
       "      <th></th>\n",
       "      <th>test_case</th>\n",
       "      <th>id</th>\n",
       "      <th>source</th>\n",
       "      <th>language</th>\n",
       "      <th>text</th>\n",
       "      <th>task1</th>\n",
       "      <th>task2</th>\n",
       "    </tr>\n",
       "  </thead>\n",
       "  <tbody>\n",
       "    <tr>\n",
       "      <th>0</th>\n",
       "      <td>EXIST2021</td>\n",
       "      <td>6978</td>\n",
       "      <td>gab</td>\n",
       "      <td>en</td>\n",
       "      <td>Pennsylvania State Rep horrifies with opening ...</td>\n",
       "      <td>non-sexist</td>\n",
       "      <td>non-sexist</td>\n",
       "    </tr>\n",
       "    <tr>\n",
       "      <th>1</th>\n",
       "      <td>EXIST2021</td>\n",
       "      <td>6979</td>\n",
       "      <td>twitter</td>\n",
       "      <td>en</td>\n",
       "      <td>@iilovegrapes He sounds like as ass, and very ...</td>\n",
       "      <td>non-sexist</td>\n",
       "      <td>non-sexist</td>\n",
       "    </tr>\n",
       "    <tr>\n",
       "      <th>2</th>\n",
       "      <td>EXIST2021</td>\n",
       "      <td>6980</td>\n",
       "      <td>twitter</td>\n",
       "      <td>en</td>\n",
       "      <td>@averyangryskel1 @4ARealistParty LOL! \"This be...</td>\n",
       "      <td>sexist</td>\n",
       "      <td>ideological-inequality</td>\n",
       "    </tr>\n",
       "    <tr>\n",
       "      <th>3</th>\n",
       "      <td>EXIST2021</td>\n",
       "      <td>6981</td>\n",
       "      <td>twitter</td>\n",
       "      <td>en</td>\n",
       "      <td>@WanderOrange @stalliontwink Rights?I mean yea...</td>\n",
       "      <td>sexist</td>\n",
       "      <td>ideological-inequality</td>\n",
       "    </tr>\n",
       "    <tr>\n",
       "      <th>4</th>\n",
       "      <td>EXIST2021</td>\n",
       "      <td>6982</td>\n",
       "      <td>twitter</td>\n",
       "      <td>en</td>\n",
       "      <td>the jack manifold appreciation i’m seeing is o...</td>\n",
       "      <td>non-sexist</td>\n",
       "      <td>non-sexist</td>\n",
       "    </tr>\n",
       "  </tbody>\n",
       "</table>\n",
       "</div>"
      ],
      "text/plain": [
       "   test_case    id   source language  \\\n",
       "0  EXIST2021  6978      gab       en   \n",
       "1  EXIST2021  6979  twitter       en   \n",
       "2  EXIST2021  6980  twitter       en   \n",
       "3  EXIST2021  6981  twitter       en   \n",
       "4  EXIST2021  6982  twitter       en   \n",
       "\n",
       "                                                text       task1  \\\n",
       "0  Pennsylvania State Rep horrifies with opening ...  non-sexist   \n",
       "1  @iilovegrapes He sounds like as ass, and very ...  non-sexist   \n",
       "2  @averyangryskel1 @4ARealistParty LOL! \"This be...      sexist   \n",
       "3  @WanderOrange @stalliontwink Rights?I mean yea...      sexist   \n",
       "4  the jack manifold appreciation i’m seeing is o...  non-sexist   \n",
       "\n",
       "                    task2  \n",
       "0              non-sexist  \n",
       "1              non-sexist  \n",
       "2  ideological-inequality  \n",
       "3  ideological-inequality  \n",
       "4              non-sexist  "
      ]
     },
     "execution_count": 4,
     "metadata": {},
     "output_type": "execute_result"
    }
   ],
   "source": [
    "test_df = pd.read_csv('../Data/EXIST2021_test.tsv', sep='\\t')\n",
    "test_df.head()"
   ]
  },
  {
   "cell_type": "markdown",
   "id": "negative-finish",
   "metadata": {},
   "source": [
    "## Análisis básico"
   ]
  },
  {
   "cell_type": "markdown",
   "id": "ranging-vitamin",
   "metadata": {},
   "source": [
    "En train todos son de Twitter, lo que es problemático ya que en test hay varios que provienen de Gab."
   ]
  },
  {
   "cell_type": "code",
   "execution_count": 5,
   "id": "small-female",
   "metadata": {},
   "outputs": [
    {
     "data": {
      "image/png": "[encoded data removed]",
      "text/plain": [
       "<Figure size 1080x432 with 2 Axes>"
      ]
     },
     "metadata": {},
     "output_type": "display_data"
    }
   ],
   "source": [
    "fig, (ax0, ax1) = plt.subplots(figsize=(15,6), nrows=1, ncols=2)\n",
    "\n",
    "sns.countplot(data=train_df.sort_values('source'), x='source', ax=ax0)\n",
    "ax0.set_xlabel(bold_latex('Source'), weight='bold')\n",
    "ax0.set_ylabel(bold_latex('Count'), weight='bold')\n",
    "ax0.set_title(bold_latex('Train'), weight='bold')\n",
    "\n",
    "sns.countplot(data=test_df.sort_values('source', ascending=False), x='source', ax=ax1)\n",
    "ax1.set_xlabel(bold_latex('Source'), weight='bold')\n",
    "ax1.set_ylabel(bold_latex('Count'), weight='bold')\n",
    "ax1.set_title(bold_latex('Test'), weight='bold')\n",
    "\n",
    "fig.suptitle(bold_latex('Source of the text'), weight='bold', size=16)\n",
    "\n",
    "plt.show()\n",
    "\n",
    "fig.savefig('Images/source.pdf', bbox_inches='tight')"
   ]
  },
  {
   "cell_type": "markdown",
   "id": "casual-administration",
   "metadata": {},
   "source": [
    "En cuanto al idioma, están casi balanceados."
   ]
  },
  {
   "cell_type": "code",
   "execution_count": 6,
   "id": "educational-bridal",
   "metadata": {},
   "outputs": [
    {
     "data": {
      "image/png": "[encoded data removed]",
      "text/plain": [
       "<Figure size 1080x432 with 2 Axes>"
      ]
     },
     "metadata": {},
     "output_type": "display_data"
    }
   ],
   "source": [
    "fig, (ax0, ax1) = plt.subplots(figsize=(15,6), nrows=1, ncols=2)\n",
    "\n",
    "sns.countplot(data=train_df, x='language', ax=ax0)\n",
    "ax0.set_xlabel(bold_latex('Language'), weight='bold')\n",
    "ax0.set_ylabel(bold_latex('Count'), weight='bold')\n",
    "ax0.set_title(bold_latex('Train'), weight='bold')\n",
    "\n",
    "sns.countplot(data=test_df, x='language', ax=ax1)\n",
    "ax1.set_xlabel(bold_latex('Language'), weight='bold')\n",
    "ax1.set_ylabel(bold_latex('Count'), weight='bold')\n",
    "ax1.set_title(bold_latex('Test'), weight='bold')\n",
    "\n",
    "fig.suptitle(bold_latex('Language of the text'), weight='bold', size=16)\n",
    "\n",
    "plt.show()\n",
    "\n",
    "fig.savefig('Images/language.pdf', bbox_inches='tight')"
   ]
  },
  {
   "cell_type": "markdown",
   "id": "chinese-netherlands",
   "metadata": {},
   "source": [
    "En cuanto a la tarea de clasificación binaria, están casi balanceados entre no sexistas y sexistas."
   ]
  },
  {
   "cell_type": "code",
   "execution_count": 7,
   "id": "local-briefs",
   "metadata": {},
   "outputs": [
    {
     "data": {
      "image/png": "[encoded data removed]",
      "text/plain": [
       "<Figure size 1440x432 with 2 Axes>"
      ]
     },
     "metadata": {},
     "output_type": "display_data"
    }
   ],
   "source": [
    "fig, (ax0, ax1) = plt.subplots(figsize=(20,6), nrows=1, ncols=2)\n",
    "\n",
    "sns.countplot(data=train_df.sort_values('task1'), x='task1', hue='language', ax=ax0)\n",
    "ax0.set_xlabel(bold_latex('Class'), weight='bold')\n",
    "ax0.set_ylabel(bold_latex('Count'), weight='bold')\n",
    "ax0.set_title(bold_latex('Train'), weight='bold')\n",
    "\n",
    "sns.countplot(data=test_df.sort_values('task1'), x='task1', hue='language', ax=ax1)\n",
    "ax1.set_xlabel(bold_latex('Class'), weight='bold')\n",
    "ax1.set_ylabel(bold_latex('Count'), weight='bold')\n",
    "ax1.set_title(bold_latex('Test'), weight='bold')\n",
    "\n",
    "fig.suptitle(bold_latex('Distribution of the classes for task-1'), weight='bold', size=16)\n",
    "\n",
    "plt.show()\n",
    "\n",
    "fig.savefig('Images/task1.pdf', bbox_inches='tight')"
   ]
  },
  {
   "cell_type": "markdown",
   "id": "fancy-planet",
   "metadata": {},
   "source": [
    "En cuanto a la tarea de detectar qué tipo de sexismo ya no están tan balanceadas las distintas clases."
   ]
  },
  {
   "cell_type": "code",
   "execution_count": 9,
   "id": "compressed-mechanism",
   "metadata": {},
   "outputs": [
    {
     "data": {
      "image/png": "[encoded data removed]",
      "text/plain": [
       "<Figure size 1080x432 with 2 Axes>"
      ]
     },
     "metadata": {},
     "output_type": "display_data"
    }
   ],
   "source": [
    "fig, (ax0, ax1) = plt.subplots(figsize=(15,6), nrows=1, ncols=2)\n",
    "\n",
    "sns.countplot(data=train_df.sort_values('task2'), x='task2', hue='language', ax=ax0)\n",
    "ax0.set_xlabel(bold_latex('Class'), weight='bold')\n",
    "ax0.set_ylabel(bold_latex('Count'), weight='bold')\n",
    "ax0.set_title(bold_latex('Train'), weight='bold')\n",
    "\n",
    "for tick in ax0.get_xticklabels():\n",
    "    tick.set_rotation(45)\n",
    "\n",
    "sns.countplot(data=test_df.sort_values('task2'), x='task2', hue='language', ax=ax1)\n",
    "ax1.set_xlabel(bold_latex('Class'), weight='bold')\n",
    "ax1.set_ylabel(bold_latex('Count'), weight='bold')\n",
    "ax1.set_title(bold_latex('Test'), weight='bold')\n",
    "\n",
    "for tick in ax1.get_xticklabels():\n",
    "    tick.set_rotation(45)\n",
    "\n",
    "fig.suptitle(bold_latex('Distribution of the classes for task-2'), weight='bold', size=16)\n",
    "\n",
    "plt.show()\n",
    "\n",
    "fig.savefig('Images/task2.pdf', bbox_inches='tight')"
   ]
  }
 ],
 "metadata": {
  "kernelspec": {
   "display_name": "Python 3",
   "language": "python",
   "name": "python3"
  },
  "language_info": {
   "codemirror_mode": {
    "name": "ipython",
    "version": 3
   },
   "file_extension": ".py",
   "mimetype": "text/x-python",
   "name": "python",
   "nbconvert_exporter": "python",
   "pygments_lexer": "ipython3",
   "version": "3.7.3"
  }
 },
 "nbformat": 4,
 "nbformat_minor": 5
}
