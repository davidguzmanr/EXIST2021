{
 "cells": [
  {
   "cell_type": "code",
   "execution_count": 1,
   "id": "retired-backing",
   "metadata": {},
   "outputs": [],
   "source": [
    "import pandas as pd\n",
    "import numpy as np\n",
    "import random\n",
    "import matplotlib.pyplot as plt\n",
    "import seaborn as sns\n",
    "from tqdm import tqdm, trange\n",
    "\n",
    "from torchtext.data import Field\n",
    "from torchtext.vocab import GloVe\n",
    "from gensim.models.doc2vec import Doc2Vec, TaggedDocument\n",
    "from transformers import BertTokenizer, BertModel\n",
    "\n",
    "import torch\n",
    "import torch.nn as nn\n",
    "from torch.utils.data import DataLoader, random_split\n",
    "import torch.optim as optim\n",
    "import torch.nn.functional as F\n",
    "from torchinfo import summary\n",
    "\n",
    "from sklearn.preprocessing import LabelEncoder\n",
    "from sklearn.metrics import confusion_matrix, accuracy_score, classification_report, f1_score\n",
    "\n",
    "from utils import preprocessing\n",
    "from utils.training import train, infer, predict_sexism\n",
    "\n",
    "sns.set_style('darkgrid')"
   ]
  },
  {
   "cell_type": "code",
   "execution_count": 2,
   "id": "dense-shame",
   "metadata": {},
   "outputs": [],
   "source": [
    "# Reproducibility\n",
    "random.seed(42)\n",
    "np.random.seed(42)\n",
    "torch.manual_seed(42)\n",
    "torch.backends.cudnn.deterministic = True"
   ]
  },
  {
   "cell_type": "code",
   "execution_count": 3,
   "id": "rational-individual",
   "metadata": {},
   "outputs": [
    {
     "data": {
      "text/plain": [
       "device(type='cuda', index=0)"
      ]
     },
     "execution_count": 3,
     "metadata": {},
     "output_type": "execute_result"
    }
   ],
   "source": [
    "device = torch.device('cuda:0' if torch.cuda.is_available() else 'cpu')\n",
    "device"
   ]
  },
  {
   "cell_type": "markdown",
   "id": "fleet-zoning",
   "metadata": {},
   "source": [
    "# BERT"
   ]
  },
  {
   "cell_type": "markdown",
   "id": "german-platinum",
   "metadata": {},
   "source": [
    "## Datos"
   ]
  },
  {
   "cell_type": "code",
   "execution_count": 4,
   "id": "dress-leader",
   "metadata": {},
   "outputs": [
    {
     "data": {
      "text/html": [
       "<div>\n",
       "<style scoped>\n",
       "    .dataframe tbody tr th:only-of-type {\n",
       "        vertical-align: middle;\n",
       "    }\n",
       "\n",
       "    .dataframe tbody tr th {\n",
       "        vertical-align: top;\n",
       "    }\n",
       "\n",
       "    .dataframe thead th {\n",
       "        text-align: right;\n",
       "    }\n",
       "</style>\n",
       "<table border=\"1\" class=\"dataframe\">\n",
       "  <thead>\n",
       "    <tr style=\"text-align: right;\">\n",
       "      <th></th>\n",
       "      <th>test_case</th>\n",
       "      <th>id</th>\n",
       "      <th>source</th>\n",
       "      <th>language</th>\n",
       "      <th>text</th>\n",
       "      <th>task1</th>\n",
       "      <th>task2</th>\n",
       "      <th>label</th>\n",
       "    </tr>\n",
       "  </thead>\n",
       "  <tbody>\n",
       "    <tr>\n",
       "      <th>0</th>\n",
       "      <td>EXIST2021</td>\n",
       "      <td>1</td>\n",
       "      <td>twitter</td>\n",
       "      <td>en</td>\n",
       "      <td>she calls herself \" anti-feminazi \" how about ...</td>\n",
       "      <td>sexist</td>\n",
       "      <td>ideological-inequality</td>\n",
       "      <td>0</td>\n",
       "    </tr>\n",
       "    <tr>\n",
       "      <th>2</th>\n",
       "      <td>EXIST2021</td>\n",
       "      <td>3</td>\n",
       "      <td>twitter</td>\n",
       "      <td>en</td>\n",
       "      <td>wow , your skirt is very short . what is it's ...</td>\n",
       "      <td>sexist</td>\n",
       "      <td>objectification</td>\n",
       "      <td>2</td>\n",
       "    </tr>\n",
       "    <tr>\n",
       "      <th>5</th>\n",
       "      <td>EXIST2021</td>\n",
       "      <td>6</td>\n",
       "      <td>twitter</td>\n",
       "      <td>en</td>\n",
       "      <td>hello ... m raj ... m with good size and excel...</td>\n",
       "      <td>sexist</td>\n",
       "      <td>sexual-violence</td>\n",
       "      <td>3</td>\n",
       "    </tr>\n",
       "    <tr>\n",
       "      <th>10</th>\n",
       "      <td>EXIST2021</td>\n",
       "      <td>11</td>\n",
       "      <td>twitter</td>\n",
       "      <td>en</td>\n",
       "      <td>you weren't actually what ? this is not a pain...</td>\n",
       "      <td>sexist</td>\n",
       "      <td>ideological-inequality</td>\n",
       "      <td>0</td>\n",
       "    </tr>\n",
       "    <tr>\n",
       "      <th>15</th>\n",
       "      <td>EXIST2021</td>\n",
       "      <td>16</td>\n",
       "      <td>twitter</td>\n",
       "      <td>en</td>\n",
       "      <td>i don't know any feminists who think the way y...</td>\n",
       "      <td>sexist</td>\n",
       "      <td>ideological-inequality</td>\n",
       "      <td>0</td>\n",
       "    </tr>\n",
       "  </tbody>\n",
       "</table>\n",
       "</div>"
      ],
      "text/plain": [
       "    test_case  id   source language  \\\n",
       "0   EXIST2021   1  twitter       en   \n",
       "2   EXIST2021   3  twitter       en   \n",
       "5   EXIST2021   6  twitter       en   \n",
       "10  EXIST2021  11  twitter       en   \n",
       "15  EXIST2021  16  twitter       en   \n",
       "\n",
       "                                                 text   task1  \\\n",
       "0   she calls herself \" anti-feminazi \" how about ...  sexist   \n",
       "2   wow , your skirt is very short . what is it's ...  sexist   \n",
       "5   hello ... m raj ... m with good size and excel...  sexist   \n",
       "10  you weren't actually what ? this is not a pain...  sexist   \n",
       "15  i don't know any feminists who think the way y...  sexist   \n",
       "\n",
       "                     task2  label  \n",
       "0   ideological-inequality      0  \n",
       "2          objectification      2  \n",
       "5          sexual-violence      3  \n",
       "10  ideological-inequality      0  \n",
       "15  ideological-inequality      0  "
      ]
     },
     "execution_count": 4,
     "metadata": {},
     "output_type": "execute_result"
    }
   ],
   "source": [
    "train_df = pd.read_csv('../../Data/EXIST2021_training.tsv', sep='\\t')\n",
    "train_df = train_df[train_df['task1'] == 'sexist']\n",
    "\n",
    "# Un simple pre-procesamiento\n",
    "train_df['text'] = train_df['text'].apply(lambda text: preprocessing.preprocess(text))\n",
    "\n",
    "# Codificamos las etiquetas\n",
    "label_encoder = LabelEncoder()\n",
    "label_encoder.fit(train_df['task2'])\n",
    "\n",
    "train_df['label'] = label_encoder.transform(train_df['task2'])\n",
    "\n",
    "train_df.head()"
   ]
  },
  {
   "cell_type": "code",
   "execution_count": 5,
   "id": "senior-startup",
   "metadata": {},
   "outputs": [
    {
     "data": {
      "text/html": [
       "<div>\n",
       "<style scoped>\n",
       "    .dataframe tbody tr th:only-of-type {\n",
       "        vertical-align: middle;\n",
       "    }\n",
       "\n",
       "    .dataframe tbody tr th {\n",
       "        vertical-align: top;\n",
       "    }\n",
       "\n",
       "    .dataframe thead th {\n",
       "        text-align: right;\n",
       "    }\n",
       "</style>\n",
       "<table border=\"1\" class=\"dataframe\">\n",
       "  <thead>\n",
       "    <tr style=\"text-align: right;\">\n",
       "      <th></th>\n",
       "      <th>test_case</th>\n",
       "      <th>id</th>\n",
       "      <th>source</th>\n",
       "      <th>language</th>\n",
       "      <th>text</th>\n",
       "      <th>task1</th>\n",
       "      <th>task2</th>\n",
       "      <th>label</th>\n",
       "    </tr>\n",
       "  </thead>\n",
       "  <tbody>\n",
       "    <tr>\n",
       "      <th>2</th>\n",
       "      <td>EXIST2021</td>\n",
       "      <td>6980</td>\n",
       "      <td>twitter</td>\n",
       "      <td>en</td>\n",
       "      <td>lol ! \" this behavior of not letting men tell ...</td>\n",
       "      <td>sexist</td>\n",
       "      <td>ideological-inequality</td>\n",
       "      <td>0</td>\n",
       "    </tr>\n",
       "    <tr>\n",
       "      <th>3</th>\n",
       "      <td>EXIST2021</td>\n",
       "      <td>6981</td>\n",
       "      <td>twitter</td>\n",
       "      <td>en</td>\n",
       "      <td>rights ? i mean yeah most women especially the...</td>\n",
       "      <td>sexist</td>\n",
       "      <td>ideological-inequality</td>\n",
       "      <td>0</td>\n",
       "    </tr>\n",
       "    <tr>\n",
       "      <th>7</th>\n",
       "      <td>EXIST2021</td>\n",
       "      <td>6985</td>\n",
       "      <td>twitter</td>\n",
       "      <td>en</td>\n",
       "      <td>stop regarding women as animals who forget tht...</td>\n",
       "      <td>sexist</td>\n",
       "      <td>ideological-inequality</td>\n",
       "      <td>0</td>\n",
       "    </tr>\n",
       "    <tr>\n",
       "      <th>8</th>\n",
       "      <td>EXIST2021</td>\n",
       "      <td>6986</td>\n",
       "      <td>gab</td>\n",
       "      <td>en</td>\n",
       "      <td>yeah , it is rough , but not for women . marri...</td>\n",
       "      <td>sexist</td>\n",
       "      <td>objectification</td>\n",
       "      <td>2</td>\n",
       "    </tr>\n",
       "    <tr>\n",
       "      <th>11</th>\n",
       "      <td>EXIST2021</td>\n",
       "      <td>6989</td>\n",
       "      <td>twitter</td>\n",
       "      <td>en</td>\n",
       "      <td>you were publicly harassing a girl by constant...</td>\n",
       "      <td>sexist</td>\n",
       "      <td>misogyny-non-sexual-violence</td>\n",
       "      <td>1</td>\n",
       "    </tr>\n",
       "  </tbody>\n",
       "</table>\n",
       "</div>"
      ],
      "text/plain": [
       "    test_case    id   source language  \\\n",
       "2   EXIST2021  6980  twitter       en   \n",
       "3   EXIST2021  6981  twitter       en   \n",
       "7   EXIST2021  6985  twitter       en   \n",
       "8   EXIST2021  6986      gab       en   \n",
       "11  EXIST2021  6989  twitter       en   \n",
       "\n",
       "                                                 text   task1  \\\n",
       "2   lol ! \" this behavior of not letting men tell ...  sexist   \n",
       "3   rights ? i mean yeah most women especially the...  sexist   \n",
       "7   stop regarding women as animals who forget tht...  sexist   \n",
       "8   yeah , it is rough , but not for women . marri...  sexist   \n",
       "11  you were publicly harassing a girl by constant...  sexist   \n",
       "\n",
       "                           task2  label  \n",
       "2         ideological-inequality      0  \n",
       "3         ideological-inequality      0  \n",
       "7         ideological-inequality      0  \n",
       "8                objectification      2  \n",
       "11  misogyny-non-sexual-violence      1  "
      ]
     },
     "execution_count": 5,
     "metadata": {},
     "output_type": "execute_result"
    }
   ],
   "source": [
    "test_df = pd.read_csv('../../Data/EXIST2021_test.tsv', sep='\\t')\n",
    "test_df = test_df[test_df['task1'] == 'sexist']\n",
    "\n",
    "# Un simple pre-procesamiento\n",
    "test_df['text'] = test_df['text'].apply(lambda text: preprocessing.preprocess(text))\n",
    "\n",
    "test_df['label'] = label_encoder.transform(test_df['task2'])\n",
    "\n",
    "test_df.head()"
   ]
  },
  {
   "cell_type": "code",
   "execution_count": 6,
   "id": "turkish-dance",
   "metadata": {},
   "outputs": [
    {
     "data": {
      "text/plain": [
       "array(['ideological-inequality', 'misogyny-non-sexual-violence',\n",
       "       'objectification', 'sexual-violence', 'stereotyping-dominance'],\n",
       "      dtype=object)"
      ]
     },
     "execution_count": 6,
     "metadata": {},
     "output_type": "execute_result"
    }
   ],
   "source": [
    "label_encoder.classes_"
   ]
  },
  {
   "cell_type": "code",
   "execution_count": 7,
   "id": "nuclear-sleeping",
   "metadata": {},
   "outputs": [],
   "source": [
    "# # Ya está preprocesado\n",
    "# train_df = pd.read_csv('../../Data/EXIST2021_training_spell_checked.csv', sep=',')\n",
    "\n",
    "# # Codificamos las etiquetas\n",
    "# label_encoder = LabelEncoder()\n",
    "# label_encoder.fit(train_df['task1'])\n",
    "\n",
    "# train_df['label'] = label_encoder.transform(train_df['task1'])\n",
    "\n",
    "# train_df.head()"
   ]
  },
  {
   "cell_type": "code",
   "execution_count": 8,
   "id": "statutory-equivalent",
   "metadata": {},
   "outputs": [],
   "source": [
    "# # Ya está preprocesado\n",
    "# test_df = pd.read_csv('../../Data/EXIST2021_test_spell_checked.csv', sep=',')\n",
    "\n",
    "# test_df['label'] = label_encoder.transform(test_df['task1'])\n",
    "\n",
    "# test_df.head()"
   ]
  },
  {
   "cell_type": "markdown",
   "id": "valid-woman",
   "metadata": {},
   "source": [
    "### Dataloaders"
   ]
  },
  {
   "cell_type": "markdown",
   "id": "surrounded-providence",
   "metadata": {},
   "source": [
    "En [Huggingface models](https://huggingface.co/models) están los modelos pre-entrenados disponibles. Usaré [bert-base-multilingual-uncased](https://huggingface.co/bert-base-multilingual-uncased) que está pre-entrenado en 102 idiomas con un corpus de Wikipedia."
   ]
  },
  {
   "cell_type": "code",
   "execution_count": 9,
   "id": "intermediate-dairy",
   "metadata": {},
   "outputs": [],
   "source": [
    "# tokenizer = BertTokenizer.from_pretrained('bert-base-multilingual-uncased')\n",
    "# bert = BertModel.from_pretrained('bert-base-multilingual-uncased')\n",
    "\n",
    "# tokenizer(['hello my name is dave']), tokenizer(['hola mi nombre es david'])"
   ]
  },
  {
   "cell_type": "code",
   "execution_count": 10,
   "id": "defined-wayne",
   "metadata": {},
   "outputs": [],
   "source": [
    "class DataSet:    \n",
    "    def __init__(self, file):\n",
    "        self.y = torch.tensor(file['label'].to_numpy(), dtype=torch.long)\n",
    "        self.texts = file['text'].tolist()\n",
    "        \n",
    "        self.tokenizer = BertTokenizer.from_pretrained('bert-base-multilingual-uncased')\n",
    "        \n",
    "    def __getitem__(self, i):\n",
    "        inputs1 = self.tokenizer(self.texts[i], max_length=128, padding='max_length', truncation=True, return_tensors='pt')\n",
    "        return torch.squeeze(inputs1['input_ids']), torch.squeeze(inputs1['attention_mask']), torch.squeeze(self.y[i])\n",
    "        \n",
    "    def __len__(self):\n",
    "        return len(self.y)\n",
    "    \n",
    "class DataSetText:\n",
    "    \n",
    "    def __init__(self, file):\n",
    "        self.y = torch.tensor(file['label'].to_numpy(), dtype=torch.long)\n",
    "        self.texts = file['text'].tolist()\n",
    "        \n",
    "        self.tokenizer = BertTokenizer.from_pretrained('bert-base-multilingual-uncased')\n",
    "        \n",
    "    def __getitem__(self, i):\n",
    "        inputs1 = self.tokenizer(self.texts[i], max_length=128, padding='max_length', truncation=True, return_tensors='pt')\n",
    "        return torch.squeeze(inputs1['input_ids']), torch.squeeze(inputs1['attention_mask']), torch.squeeze(self.y[i])\n",
    "        \n",
    "    def __len__(self):\n",
    "        return len(self.y)"
   ]
  },
  {
   "cell_type": "code",
   "execution_count": 11,
   "id": "stuffed-landscape",
   "metadata": {},
   "outputs": [
    {
     "name": "stdout",
     "output_type": "stream",
     "text": [
      "Train: 3377\n",
      "Test: 2281\n"
     ]
    }
   ],
   "source": [
    "ds_text_train = DataSetText(train_df)\n",
    "ds_text_test = DataSetText(test_df)\n",
    "\n",
    "print(f'Train: {len(ds_text_train)}')\n",
    "print(f'Test: {len(ds_text_test)}')"
   ]
  },
  {
   "cell_type": "code",
   "execution_count": 12,
   "id": "waiting-portrait",
   "metadata": {},
   "outputs": [],
   "source": [
    "# Si hago el batch más grande puede que no quepa en la GPU\n",
    "BATCH_SIZE = 8\n",
    "\n",
    "train_dl = DataLoader(\n",
    "    ds_text_train,\n",
    "    batch_size=BATCH_SIZE,\n",
    "    shuffle=True,\n",
    "    num_workers=4,\n",
    "    drop_last=True)\n",
    "\n",
    "test_dl = DataLoader(\n",
    "    ds_text_test,\n",
    "    batch_size=BATCH_SIZE,\n",
    "    shuffle=True,\n",
    "    num_workers=4)"
   ]
  },
  {
   "cell_type": "markdown",
   "id": "accepted-relationship",
   "metadata": {},
   "source": [
    "## Modelo"
   ]
  },
  {
   "cell_type": "code",
   "execution_count": 13,
   "id": "later-robert",
   "metadata": {},
   "outputs": [],
   "source": [
    "class SexismClassifier(nn.Module):\n",
    "    def __init__(self):\n",
    "        super(SexismClassifier, self).__init__()\n",
    "        self.bert = BertModel.from_pretrained('bert-base-multilingual-uncased')\n",
    "        \n",
    "        self.dropout = nn.Dropout()\n",
    "                \n",
    "        self.clf = nn.Sequential(nn.Linear(768, 5), \n",
    "                                 nn.Softmax(dim=1))\n",
    "        \n",
    "    def forward(self, ids, masks):\n",
    "        # [batch_size, max_length] -> [batch_size, max_length, 768]\n",
    "        bert_output = self.bert(input_ids=ids, attention_mask=masks, return_dict=True).last_hidden_state\n",
    "        \n",
    "        # [batch_size, max_length, 768] -> [batch_size, 768]\n",
    "        # cls_output = bert_output[:,0,:]\n",
    "        cls_output = torch.mean(bert_output, dim=1)\n",
    "        \n",
    "        cls_output = self.dropout(cls_output)\n",
    "        \n",
    "        # [batch_size, 768] -> [batch_size, 6]\n",
    "        y = self.clf(cls_output)\n",
    "\n",
    "        return y"
   ]
  },
  {
   "cell_type": "code",
   "execution_count": 14,
   "id": "engaging-programmer",
   "metadata": {},
   "outputs": [],
   "source": [
    "model = SexismClassifier().to(device)"
   ]
  },
  {
   "cell_type": "code",
   "execution_count": 15,
   "id": "hawaiian-cabinet",
   "metadata": {},
   "outputs": [
    {
     "data": {
      "text/plain": [
       "tensor([[0.2075, 0.1639, 0.2252, 0.1971, 0.2064]], device='cuda:0',\n",
       "       grad_fn=<SoftmaxBackward>)"
      ]
     },
     "execution_count": 15,
     "metadata": {},
     "output_type": "execute_result"
    }
   ],
   "source": [
    "input_id, mask, y_true = ds_text_test.__getitem__(42)\n",
    "\n",
    "model.eval()\n",
    "model(input_id.unsqueeze(dim=0).to(device), mask.unsqueeze(dim=0).to(device))"
   ]
  },
  {
   "cell_type": "code",
   "execution_count": 16,
   "id": "brazilian-principal",
   "metadata": {},
   "outputs": [
    {
     "data": {
      "text/plain": [
       "=================================================================\n",
       "Layer (type:depth-idx)                   Param #\n",
       "=================================================================\n",
       "├─BertModel: 1-1                         --\n",
       "|    └─BertEmbeddings: 2-1               --\n",
       "|    |    └─Embedding: 3-1               81,315,072\n",
       "|    |    └─Embedding: 3-2               393,216\n",
       "|    |    └─Embedding: 3-3               1,536\n",
       "|    |    └─LayerNorm: 3-4               1,536\n",
       "|    |    └─Dropout: 3-5                 --\n",
       "|    └─BertEncoder: 2-2                  --\n",
       "|    |    └─ModuleList: 3-6              85,054,464\n",
       "|    └─BertPooler: 2-3                   --\n",
       "|    |    └─Linear: 3-7                  590,592\n",
       "|    |    └─Tanh: 3-8                    --\n",
       "├─Dropout: 1-2                           --\n",
       "├─Sequential: 1-3                        --\n",
       "|    └─Linear: 2-4                       3,845\n",
       "|    └─Softmax: 2-5                      --\n",
       "=================================================================\n",
       "Total params: 167,360,261\n",
       "Trainable params: 167,360,261\n",
       "Non-trainable params: 0\n",
       "================================================================="
      ]
     },
     "execution_count": 16,
     "metadata": {},
     "output_type": "execute_result"
    }
   ],
   "source": [
    "summary(model)"
   ]
  },
  {
   "cell_type": "markdown",
   "id": "medium-desktop",
   "metadata": {},
   "source": [
    "### Entrenamiento"
   ]
  },
  {
   "cell_type": "code",
   "execution_count": 17,
   "id": "floppy-adaptation",
   "metadata": {},
   "outputs": [
    {
     "name": "stdout",
     "output_type": "stream",
     "text": [
      "Epoch 5: train F1:0.6728359252648352 test F1:0.5368654998200453\n"
     ]
    },
    {
     "data": {
      "image/png": "[encoded data removed]",
      "text/plain": [
       "<Figure size 1080x432 with 2 Axes>"
      ]
     },
     "metadata": {},
     "output_type": "display_data"
    },
    {
     "name": "stdout",
     "output_type": "stream",
     "text": [
      "CPU times: user 5min 54s, sys: 14.5 s, total: 6min 9s\n",
      "Wall time: 6min 10s\n"
     ]
    }
   ],
   "source": [
    "%time losses_train, losses_test, f1_scores_train, f1_test_test = train(model, train_dl, test_dl, epochs=5, lr=1e-5)"
   ]
  },
  {
   "cell_type": "markdown",
   "id": "terminal-title",
   "metadata": {},
   "source": [
    "### Evaluación"
   ]
  },
  {
   "cell_type": "code",
   "execution_count": 20,
   "id": "antique-hollow",
   "metadata": {},
   "outputs": [
    {
     "name": "stdout",
     "output_type": "stream",
     "text": [
      "CPU times: user 10.1 s, sys: 201 ms, total: 10.3 s\n",
      "Wall time: 10.5 s\n"
     ]
    }
   ],
   "source": [
    "%time y_test, y_pred = infer(model, test_dl)"
   ]
  },
  {
   "cell_type": "code",
   "execution_count": 21,
   "id": "urban-pakistan",
   "metadata": {},
   "outputs": [
    {
     "name": "stdout",
     "output_type": "stream",
     "text": [
      "                              precision    recall  f1-score   support\n",
      "\n",
      "      ideological-inequality       0.68      0.80      0.74       621\n",
      "misogyny-non-sexual-violence       0.61      0.49      0.54       472\n",
      "             objectification       0.60      0.52      0.56       324\n",
      "             sexual-violence       0.76      0.61      0.68       400\n",
      "      stereotyping-dominance       0.54      0.68      0.60       464\n",
      "\n",
      "                    accuracy                           0.64      2281\n",
      "                   macro avg       0.64      0.62      0.62      2281\n",
      "                weighted avg       0.64      0.64      0.63      2281\n",
      "\n"
     ]
    }
   ],
   "source": [
    "print(classification_report(y_test, y_pred, target_names=['ideological-inequality', 'misogyny-non-sexual-violence', \n",
    "                                                          'objectification', 'sexual-violence', 'stereotyping-dominance']))"
   ]
  },
  {
   "cell_type": "code",
   "execution_count": 22,
   "id": "miniature-tuesday",
   "metadata": {},
   "outputs": [
    {
     "name": "stdout",
     "output_type": "stream",
     "text": [
      "Accuracy: 63.7\n",
      "F1 score: 62.38\n"
     ]
    }
   ],
   "source": [
    "print(f'Accuracy: {100*round(accuracy_score(y_test, y_pred), 4)}')\n",
    "print(f'F1 score: {100*round(f1_score(y_test, y_pred, average=\"macro\"), 4)}')"
   ]
  },
  {
   "cell_type": "code",
   "execution_count": 23,
   "id": "encouraging-discharge",
   "metadata": {},
   "outputs": [
    {
     "data": {
      "text/plain": [
       "'sexual-violence'"
      ]
     },
     "execution_count": 23,
     "metadata": {},
     "output_type": "execute_result"
    }
   ],
   "source": [
    "text = 'shut up bitch and suck my dick'\n",
    "\n",
    "predict_sexism(model, text, label=True)"
   ]
  },
  {
   "cell_type": "markdown",
   "id": "pressed-helicopter",
   "metadata": {},
   "source": [
    "- De igual manera, parece que hacer el spell-checking no ayuda. \n",
    "- Usar  `torch.mean(bert_output, dim=1)` en vez de `bert_output[:,0,:]` como entrada para el clasificador realmente ayuda.\n",
    "\n",
    "|                **Model**                | **Accuracy** | **F1** |\n",
    "|:---------------------------------------:|:------------:|:------:|\n",
    "| BERT-base-multilingual-uncased, lr=1e-5 |     63.70    |  62.38 |\n",
    "| BERT-base-multilingual-uncased, lr=2e-5 |     53.97    |  48.19 |\n",
    "| BERT-base-multilingual-uncased, lr=3e-5 |       -      |    -   |\n",
    "\n",
    "\n",
    "\n",
    "<!-- |                 **Model**                 | **Accuracy** | **F1** |\n",
    "|:-----------------------------------------:|:------------:|:------:|\n",
    "|       1-Dropout, bert_output[:,0,:]       |    73.509    | 73.240 |\n",
    "|       2-Dropout, bert_output[:,0,:]       |     74.18    |  76.22 |\n",
    "|       3-Dropout, bert_output[:,0,:]       |     74.24    |  74.99 |\n",
    "| 1-Dropout, torch.mean(bert_output, dim=1) |     75.27    |  76.55 |\n",
    "| 2-Dropout, torch.mean(bert_output, dim=1) |       -      |    -   |\n",
    "| 3-Dropout, torch.mean(bert_output, dim=1) |     74.52    |  74.81 | -->"
   ]
  },
  {
   "cell_type": "markdown",
   "id": "bizarre-endorsement",
   "metadata": {},
   "source": [
    "Finalmente, guardamos el modelo."
   ]
  },
  {
   "cell_type": "code",
   "execution_count": 24,
   "id": "split-selling",
   "metadata": {},
   "outputs": [],
   "source": [
    "!mkdir models"
   ]
  },
  {
   "cell_type": "code",
   "execution_count": 25,
   "id": "surface-hunger",
   "metadata": {},
   "outputs": [],
   "source": [
    "torch.save(model.state_dict(), 'models/sexism-classifier-task2.pt')"
   ]
  }
 ],
 "metadata": {
  "kernelspec": {
   "display_name": "Python 3",
   "language": "python",
   "name": "python3"
  },
  "language_info": {
   "codemirror_mode": {
    "name": "ipython",
    "version": 3
   },
   "file_extension": ".py",
   "mimetype": "text/x-python",
   "name": "python",
   "nbconvert_exporter": "python",
   "pygments_lexer": "ipython3",
   "version": "3.7.3"
  }
 },
 "nbformat": 4,
 "nbformat_minor": 5
}
