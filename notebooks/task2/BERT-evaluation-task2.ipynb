{
 "cells": [
  {
   "cell_type": "code",
   "execution_count": 1,
   "id": "reasonable-fellowship",
   "metadata": {},
   "outputs": [],
   "source": [
    "import pandas as pd\n",
    "import seaborn as sns\n",
    "\n",
    "import torch\n",
    "from torch.utils.data import DataLoader\n",
    "import torch.nn.functional as F\n",
    "from torchinfo import summary\n",
    "\n",
    "from sklearn.metrics import accuracy_score, classification_report, f1_score\n",
    "\n",
    "import gdown\n",
    "from os.path import exists\n",
    "from os import mkdir\n",
    "\n",
    "from utils import preprocessing\n",
    "from utils.evaluation import DataSetText, infer, infer_task2\n",
    "\n",
    "from utils.evaluation import SexismClassifierTask1\n",
    "from utils.evaluation import SexismClassifier as SexismClassifierTask2\n",
    "\n",
    "sns.set_style('darkgrid')\n",
    "device = torch.device('cuda:0' if torch.cuda.is_available() else 'cpu')"
   ]
  },
  {
   "cell_type": "markdown",
   "id": "occupied-failure",
   "metadata": {},
   "source": [
    "# Evaluación"
   ]
  },
  {
   "cell_type": "markdown",
   "id": "strange-ticket",
   "metadata": {},
   "source": [
    "## Modelos\n",
    "\n",
    "Primero necesitamos descargar los modelos ya entrenados, para ambas tareas."
   ]
  },
  {
   "cell_type": "code",
   "execution_count": 2,
   "id": "d0236a4e-6da9-478d-91ce-170e34f1448b",
   "metadata": {},
   "outputs": [],
   "source": [
    "model_path = 'models/sexism-classifier-task1.pt'\n",
    "\n",
    "if not exists(model_path):\n",
    "    # Create directory\n",
    "    try:\n",
    "        mkdir('models')\n",
    "    except Exception as e:\n",
    "        print(e)     \n",
    "\n",
    "    # Download the model\n",
    "    url = 'https://drive.google.com/uc?id=1V0VbdwXDcFP6f0GrdCna1SQqqkZpBOLW'\n",
    "    gdown.download(url, model_path, quiet=False)"
   ]
  },
  {
   "cell_type": "code",
   "execution_count": 3,
   "id": "f6ce98f3-8da1-445f-9d1c-2cc312d3aae0",
   "metadata": {},
   "outputs": [
    {
     "data": {
      "text/plain": [
       "=================================================================\n",
       "Layer (type:depth-idx)                   Param #\n",
       "=================================================================\n",
       "├─BertModel: 1-1                         --\n",
       "|    └─BertEmbeddings: 2-1               --\n",
       "|    |    └─Embedding: 3-1               81,315,072\n",
       "|    |    └─Embedding: 3-2               393,216\n",
       "|    |    └─Embedding: 3-3               1,536\n",
       "|    |    └─LayerNorm: 3-4               1,536\n",
       "|    |    └─Dropout: 3-5                 --\n",
       "|    └─BertEncoder: 2-2                  --\n",
       "|    |    └─ModuleList: 3-6              85,054,464\n",
       "|    └─BertPooler: 2-3                   --\n",
       "|    |    └─Linear: 3-7                  590,592\n",
       "|    |    └─Tanh: 3-8                    --\n",
       "├─Dropout: 1-2                           --\n",
       "├─Sequential: 1-3                        --\n",
       "|    └─Linear: 2-4                       1,538\n",
       "|    └─Softmax: 2-5                      --\n",
       "=================================================================\n",
       "Total params: 167,357,954\n",
       "Trainable params: 167,357,954\n",
       "Non-trainable params: 0\n",
       "================================================================="
      ]
     },
     "execution_count": 3,
     "metadata": {},
     "output_type": "execute_result"
    }
   ],
   "source": [
    "model_task1 = SexismClassifierTask1()\n",
    "model_task1.load_state_dict(torch.load('models/sexism-classifier-task1.pt'))\n",
    "model_task1.to(device)\n",
    "model_task1.eval()\n",
    "\n",
    "summary(model_task1)"
   ]
  },
  {
   "cell_type": "code",
   "execution_count": 4,
   "id": "d26f52bd",
   "metadata": {},
   "outputs": [],
   "source": [
    "model_path = 'models/sexism-classifier-task2.pt'\n",
    "\n",
    "if not exists(model_path):\n",
    "    # Create directory\n",
    "    try:\n",
    "        mkdir('models')\n",
    "    except Exception as e:\n",
    "        print(e)     \n",
    "\n",
    "    # Download the model\n",
    "        url = 'https://drive.google.com/uc?id=1AtE9iu5OWeTpYTeMa_xrCvsmSuGVyFdJ'\n",
    "        gdown.download(url, model_path, quiet=False)"
   ]
  },
  {
   "cell_type": "code",
   "execution_count": 5,
   "id": "binding-angel",
   "metadata": {},
   "outputs": [
    {
     "data": {
      "text/plain": [
       "=================================================================\n",
       "Layer (type:depth-idx)                   Param #\n",
       "=================================================================\n",
       "├─BertModel: 1-1                         --\n",
       "|    └─BertEmbeddings: 2-1               --\n",
       "|    |    └─Embedding: 3-1               81,315,072\n",
       "|    |    └─Embedding: 3-2               393,216\n",
       "|    |    └─Embedding: 3-3               1,536\n",
       "|    |    └─LayerNorm: 3-4               1,536\n",
       "|    |    └─Dropout: 3-5                 --\n",
       "|    └─BertEncoder: 2-2                  --\n",
       "|    |    └─ModuleList: 3-6              85,054,464\n",
       "|    └─BertPooler: 2-3                   --\n",
       "|    |    └─Linear: 3-7                  590,592\n",
       "|    |    └─Tanh: 3-8                    --\n",
       "├─Dropout: 1-2                           --\n",
       "├─Sequential: 1-3                        --\n",
       "|    └─Linear: 2-4                       3,845\n",
       "|    └─Softmax: 2-5                      --\n",
       "=================================================================\n",
       "Total params: 167,360,261\n",
       "Trainable params: 167,360,261\n",
       "Non-trainable params: 0\n",
       "================================================================="
      ]
     },
     "execution_count": 5,
     "metadata": {},
     "output_type": "execute_result"
    }
   ],
   "source": [
    "model_task2 = SexismClassifierTask2()\n",
    "model_task2.load_state_dict(torch.load('models/sexism-classifier-task2.pt'))\n",
    "model_task2.to(device)\n",
    "model_task2.eval()\n",
    "\n",
    "summary(model_task2)"
   ]
  },
  {
   "cell_type": "markdown",
   "id": "shared-vintage",
   "metadata": {},
   "source": [
    "## Datos"
   ]
  },
  {
   "cell_type": "code",
   "execution_count": 6,
   "id": "still-craft",
   "metadata": {},
   "outputs": [
    {
     "data": {
      "text/html": [
       "<div>\n",
       "<style scoped>\n",
       "    .dataframe tbody tr th:only-of-type {\n",
       "        vertical-align: middle;\n",
       "    }\n",
       "\n",
       "    .dataframe tbody tr th {\n",
       "        vertical-align: top;\n",
       "    }\n",
       "\n",
       "    .dataframe thead th {\n",
       "        text-align: right;\n",
       "    }\n",
       "</style>\n",
       "<table border=\"1\" class=\"dataframe\">\n",
       "  <thead>\n",
       "    <tr style=\"text-align: right;\">\n",
       "      <th></th>\n",
       "      <th>test_case</th>\n",
       "      <th>id</th>\n",
       "      <th>source</th>\n",
       "      <th>language</th>\n",
       "      <th>text</th>\n",
       "      <th>task1</th>\n",
       "      <th>task2</th>\n",
       "      <th>label</th>\n",
       "    </tr>\n",
       "  </thead>\n",
       "  <tbody>\n",
       "    <tr>\n",
       "      <th>0</th>\n",
       "      <td>EXIST2021</td>\n",
       "      <td>6978</td>\n",
       "      <td>gab</td>\n",
       "      <td>en</td>\n",
       "      <td>pennsylvania state rep horrifies with opening ...</td>\n",
       "      <td>non-sexist</td>\n",
       "      <td>non-sexist</td>\n",
       "      <td>5</td>\n",
       "    </tr>\n",
       "    <tr>\n",
       "      <th>1</th>\n",
       "      <td>EXIST2021</td>\n",
       "      <td>6979</td>\n",
       "      <td>twitter</td>\n",
       "      <td>en</td>\n",
       "      <td>he sounds like as ass , and very condescending .</td>\n",
       "      <td>non-sexist</td>\n",
       "      <td>non-sexist</td>\n",
       "      <td>5</td>\n",
       "    </tr>\n",
       "    <tr>\n",
       "      <th>2</th>\n",
       "      <td>EXIST2021</td>\n",
       "      <td>6980</td>\n",
       "      <td>twitter</td>\n",
       "      <td>en</td>\n",
       "      <td>lol ! \" this behavior of not letting men tell ...</td>\n",
       "      <td>sexist</td>\n",
       "      <td>ideological-inequality</td>\n",
       "      <td>0</td>\n",
       "    </tr>\n",
       "    <tr>\n",
       "      <th>3</th>\n",
       "      <td>EXIST2021</td>\n",
       "      <td>6981</td>\n",
       "      <td>twitter</td>\n",
       "      <td>en</td>\n",
       "      <td>rights ? i mean yeah most women especially the...</td>\n",
       "      <td>sexist</td>\n",
       "      <td>ideological-inequality</td>\n",
       "      <td>0</td>\n",
       "    </tr>\n",
       "    <tr>\n",
       "      <th>4</th>\n",
       "      <td>EXIST2021</td>\n",
       "      <td>6982</td>\n",
       "      <td>twitter</td>\n",
       "      <td>en</td>\n",
       "      <td>the jack manifold appreciation i ’ m seeing is...</td>\n",
       "      <td>non-sexist</td>\n",
       "      <td>non-sexist</td>\n",
       "      <td>5</td>\n",
       "    </tr>\n",
       "  </tbody>\n",
       "</table>\n",
       "</div>"
      ],
      "text/plain": [
       "   test_case    id   source language  \\\n",
       "0  EXIST2021  6978      gab       en   \n",
       "1  EXIST2021  6979  twitter       en   \n",
       "2  EXIST2021  6980  twitter       en   \n",
       "3  EXIST2021  6981  twitter       en   \n",
       "4  EXIST2021  6982  twitter       en   \n",
       "\n",
       "                                                text       task1  \\\n",
       "0  pennsylvania state rep horrifies with opening ...  non-sexist   \n",
       "1   he sounds like as ass , and very condescending .  non-sexist   \n",
       "2  lol ! \" this behavior of not letting men tell ...      sexist   \n",
       "3  rights ? i mean yeah most women especially the...      sexist   \n",
       "4  the jack manifold appreciation i ’ m seeing is...  non-sexist   \n",
       "\n",
       "                    task2  label  \n",
       "0              non-sexist      5  \n",
       "1              non-sexist      5  \n",
       "2  ideological-inequality      0  \n",
       "3  ideological-inequality      0  \n",
       "4              non-sexist      5  "
      ]
     },
     "execution_count": 6,
     "metadata": {},
     "output_type": "execute_result"
    }
   ],
   "source": [
    "test_df = pd.read_csv('../../data/EXIST2021_test.tsv', sep='\\t')\n",
    "\n",
    "# Un simple pre-procesamiento\n",
    "test_df['text'] = test_df['text'].apply(lambda text: preprocessing.preprocess(text))\n",
    "\n",
    "# Codificamos las etiquetas\n",
    "labels_dict = {'ideological-inequality': 0, 'misogyny-non-sexual-violence': 1, 'objectification': 2, \n",
    "               'sexual-violence': 3, 'stereotyping-dominance': 4, 'non-sexist': 5}\n",
    "\n",
    "test_df['label'] = test_df['task2'].apply(lambda x: labels_dict[x])\n",
    "\n",
    "test_df_en = test_df[test_df['language'] == 'en']\n",
    "test_df_es = test_df[test_df['language'] == 'es']\n",
    "\n",
    "test_df.head()"
   ]
  },
  {
   "cell_type": "code",
   "execution_count": 7,
   "id": "complex-butler",
   "metadata": {},
   "outputs": [
    {
     "name": "stdout",
     "output_type": "stream",
     "text": [
      "Test: 4368\n",
      "Test en: 2208\n",
      "Test es: 2160\n"
     ]
    }
   ],
   "source": [
    "ds_text_test = DataSetText(test_df)\n",
    "ds_text_test_en = DataSetText(test_df_en)\n",
    "ds_text_test_es = DataSetText(test_df_es)\n",
    "\n",
    "print(f'Test: {len(ds_text_test)}')\n",
    "print(f'Test en: {len(ds_text_test_en)}')\n",
    "print(f'Test es: {len(ds_text_test_es)}')"
   ]
  },
  {
   "cell_type": "code",
   "execution_count": 8,
   "id": "indonesian-heater",
   "metadata": {},
   "outputs": [],
   "source": [
    "BATCH_SIZE = 8\n",
    "\n",
    "test_dl = DataLoader(\n",
    "    ds_text_test,\n",
    "    batch_size=BATCH_SIZE,\n",
    "    shuffle=True,\n",
    "    num_workers=4)\n",
    "\n",
    "test_en_dl = DataLoader(\n",
    "    ds_text_test_en,\n",
    "    batch_size=BATCH_SIZE,\n",
    "    shuffle=True,\n",
    "    num_workers=4)\n",
    "\n",
    "test_es_dl = DataLoader(\n",
    "    ds_text_test_es,\n",
    "    batch_size=BATCH_SIZE,\n",
    "    shuffle=True,\n",
    "    num_workers=4)"
   ]
  },
  {
   "cell_type": "markdown",
   "id": "latin-bidding",
   "metadata": {},
   "source": [
    "## Rendimiento"
   ]
  },
  {
   "cell_type": "code",
   "execution_count": 9,
   "id": "unusual-reduction",
   "metadata": {},
   "outputs": [
    {
     "name": "stderr",
     "output_type": "stream",
     "text": [
      "100%|██████████████████████████████████████████████████████████████████████████████████████████████████████████████████████████████████| 546/546 [00:39<00:00, 13.87it/s]\n",
      "  0%|                                                                                                                                            | 0/276 [00:00<?, ?it/s]"
     ]
    },
    {
     "name": "stdout",
     "output_type": "stream",
     "text": [
      "CPU times: user 39 s, sys: 281 ms, total: 39.3 s\n",
      "Wall time: 39.4 s\n"
     ]
    },
    {
     "name": "stderr",
     "output_type": "stream",
     "text": [
      "100%|██████████████████████████████████████████████████████████████████████████████████████████████████████████████████████████████████| 276/276 [00:20<00:00, 13.61it/s]\n",
      "  0%|                                                                                                                                            | 0/270 [00:00<?, ?it/s]"
     ]
    },
    {
     "name": "stdout",
     "output_type": "stream",
     "text": [
      "CPU times: user 20 s, sys: 231 ms, total: 20.2 s\n",
      "Wall time: 20.3 s\n"
     ]
    },
    {
     "name": "stderr",
     "output_type": "stream",
     "text": [
      "100%|██████████████████████████████████████████████████████████████████████████████████████████████████████████████████████████████████| 270/270 [00:19<00:00, 13.66it/s]"
     ]
    },
    {
     "name": "stdout",
     "output_type": "stream",
     "text": [
      "CPU times: user 19.4 s, sys: 255 ms, total: 19.7 s\n",
      "Wall time: 19.8 s\n"
     ]
    },
    {
     "name": "stderr",
     "output_type": "stream",
     "text": [
      "\n"
     ]
    }
   ],
   "source": [
    "%time y_test, y_pred = infer_task2(model_task1, model_task2, test_dl)\n",
    "%time y_test_en, y_pred_en = infer_task2(model_task1, model_task2, test_en_dl)\n",
    "%time y_test_es, y_pred_es = infer_task2(model_task1, model_task2, test_es_dl)"
   ]
  },
  {
   "cell_type": "markdown",
   "id": "monetary-kitty",
   "metadata": {},
   "source": [
    "En general se tiene que:"
   ]
  },
  {
   "cell_type": "code",
   "execution_count": 10,
   "id": "instrumental-charm",
   "metadata": {},
   "outputs": [
    {
     "name": "stdout",
     "output_type": "stream",
     "text": [
      "                              precision    recall  f1-score   support\n",
      "\n",
      "      ideological-inequality       0.61      0.67      0.64       621\n",
      "misogyny-non-sexual-violence       0.43      0.35      0.39       472\n",
      "             objectification       0.42      0.41      0.42       324\n",
      "             sexual-violence       0.57      0.45      0.50       400\n",
      "      stereotyping-dominance       0.43      0.58      0.49       464\n",
      "                  non-sexist       0.75      0.73      0.74      2087\n",
      "\n",
      "                    accuracy                           0.62      4368\n",
      "                   macro avg       0.54      0.53      0.53      4368\n",
      "                weighted avg       0.62      0.62      0.62      4368\n",
      "\n",
      "Accuracy: 61.6529\n",
      "F1 score: 53.0829\n"
     ]
    }
   ],
   "source": [
    "print(classification_report(y_test, y_pred, target_names=['ideological-inequality', 'misogyny-non-sexual-violence', 'objectification', \n",
    "                                                          'sexual-violence', 'stereotyping-dominance', 'non-sexist']))\n",
    "\n",
    "print(f'Accuracy: {round(100*accuracy_score(y_test, y_pred), 4)}')\n",
    "print(f'F1 score: {round(100*f1_score(y_test, y_pred, average=\"macro\"), 4)}')"
   ]
  },
  {
   "cell_type": "markdown",
   "id": "optional-prevention",
   "metadata": {},
   "source": [
    "En inglés se tiene que:"
   ]
  },
  {
   "cell_type": "code",
   "execution_count": 11,
   "id": "veterinary-victorian",
   "metadata": {},
   "outputs": [
    {
     "name": "stdout",
     "output_type": "stream",
     "text": [
      "                              precision    recall  f1-score   support\n",
      "\n",
      "      ideological-inequality       0.59      0.62      0.61       333\n",
      "misogyny-non-sexual-violence       0.40      0.30      0.34       215\n",
      "             objectification       0.39      0.45      0.41       150\n",
      "             sexual-violence       0.45      0.48      0.46       198\n",
      "      stereotyping-dominance       0.42      0.61      0.50       262\n",
      "                  non-sexist       0.77      0.68      0.72      1050\n",
      "\n",
      "                    accuracy                           0.59      2208\n",
      "                   macro avg       0.50      0.52      0.51      2208\n",
      "                weighted avg       0.61      0.59      0.60      2208\n",
      "\n",
      "Accuracy: 59.2391\n",
      "F1 score: 50.8623\n"
     ]
    }
   ],
   "source": [
    "print(classification_report(y_test_en, y_pred_en, target_names=['ideological-inequality', 'misogyny-non-sexual-violence', 'objectification', \n",
    "                                                                'sexual-violence', 'stereotyping-dominance', 'non-sexist']))\n",
    "\n",
    "print(f'Accuracy: {round(100*accuracy_score(y_test_en, y_pred_en), 4)}')\n",
    "print(f'F1 score: {round(100*f1_score(y_test_en, y_pred_en, average=\"macro\"), 4)}')"
   ]
  },
  {
   "cell_type": "markdown",
   "id": "confirmed-sight",
   "metadata": {},
   "source": [
    "En español se tiene que:"
   ]
  },
  {
   "cell_type": "code",
   "execution_count": 12,
   "id": "detailed-honey",
   "metadata": {},
   "outputs": [
    {
     "name": "stdout",
     "output_type": "stream",
     "text": [
      "                              precision    recall  f1-score   support\n",
      "\n",
      "      ideological-inequality       0.64      0.73      0.68       288\n",
      "misogyny-non-sexual-violence       0.46      0.40      0.43       257\n",
      "             objectification       0.47      0.38      0.42       174\n",
      "             sexual-violence       0.82      0.42      0.56       202\n",
      "      stereotyping-dominance       0.43      0.54      0.48       202\n",
      "                  non-sexist       0.73      0.78      0.76      1037\n",
      "\n",
      "                    accuracy                           0.64      2160\n",
      "                   macro avg       0.59      0.54      0.55      2160\n",
      "                weighted avg       0.65      0.64      0.64      2160\n",
      "\n",
      "Accuracy: 64.1204\n",
      "F1 score: 55.339\n"
     ]
    }
   ],
   "source": [
    "print(classification_report(y_test_es, y_pred_es, target_names=['ideological-inequality', 'misogyny-non-sexual-violence', 'objectification', \n",
    "                                                                'sexual-violence', 'stereotyping-dominance', 'non-sexist']))\n",
    "\n",
    "print(f'Accuracy: {round(100*accuracy_score(y_test_es, y_pred_es), 4)}')\n",
    "print(f'F1 score: {round(100*f1_score(y_test_es, y_pred_es, average=\"macro\"), 4)}')"
   ]
  }
 ],
 "metadata": {
  "kernelspec": {
   "display_name": "Python 3",
   "language": "python",
   "name": "python3"
  },
  "language_info": {
   "codemirror_mode": {
    "name": "ipython",
    "version": 3
   },
   "file_extension": ".py",
   "mimetype": "text/x-python",
   "name": "python",
   "nbconvert_exporter": "python",
   "pygments_lexer": "ipython3",
   "version": "3.7.3"
  }
 },
 "nbformat": 4,
 "nbformat_minor": 5
}
