{
 "cells": [
  {
   "cell_type": "code",
   "execution_count": 1,
   "id": "lesser-phrase",
   "metadata": {},
   "outputs": [],
   "source": [
    "import pandas as pd\n",
    "import numpy as np\n",
    "import random\n",
    "import seaborn as sns\n",
    "\n",
    "from transformers import BertTokenizer, BertModel\n",
    "\n",
    "import torch\n",
    "import torch.nn as nn\n",
    "from torch.utils.data import DataLoader\n",
    "from torchinfo import summary\n",
    "\n",
    "from sklearn.preprocessing import LabelEncoder\n",
    "from sklearn.metrics import accuracy_score, classification_report, f1_score\n",
    "\n",
    "from utils import preprocessing\n",
    "from utils.training import train, infer, predict_sexism\n",
    "\n",
    "sns.set_style('darkgrid')"
   ]
  },
  {
   "cell_type": "code",
   "execution_count": 2,
   "id": "capital-lighter",
   "metadata": {},
   "outputs": [],
   "source": [
    "# Reproducibility\n",
    "random.seed(42)\n",
    "np.random.seed(42)\n",
    "torch.manual_seed(42)\n",
    "torch.backends.cudnn.deterministic = True"
   ]
  },
  {
   "cell_type": "code",
   "execution_count": 3,
   "id": "ruled-newton",
   "metadata": {},
   "outputs": [
    {
     "data": {
      "text/plain": [
       "device(type='cuda', index=0)"
      ]
     },
     "execution_count": 3,
     "metadata": {},
     "output_type": "execute_result"
    }
   ],
   "source": [
    "device = torch.device('cuda:0' if torch.cuda.is_available() else 'cpu')\n",
    "device"
   ]
  },
  {
   "cell_type": "markdown",
   "id": "mobile-accordance",
   "metadata": {},
   "source": [
    "# BERT"
   ]
  },
  {
   "cell_type": "markdown",
   "id": "after-richmond",
   "metadata": {},
   "source": [
    "## Datos"
   ]
  },
  {
   "cell_type": "code",
   "execution_count": 4,
   "id": "healthy-latitude",
   "metadata": {},
   "outputs": [
    {
     "data": {
      "text/html": [
       "<div>\n",
       "<style scoped>\n",
       "    .dataframe tbody tr th:only-of-type {\n",
       "        vertical-align: middle;\n",
       "    }\n",
       "\n",
       "    .dataframe tbody tr th {\n",
       "        vertical-align: top;\n",
       "    }\n",
       "\n",
       "    .dataframe thead th {\n",
       "        text-align: right;\n",
       "    }\n",
       "</style>\n",
       "<table border=\"1\" class=\"dataframe\">\n",
       "  <thead>\n",
       "    <tr style=\"text-align: right;\">\n",
       "      <th></th>\n",
       "      <th>test_case</th>\n",
       "      <th>id</th>\n",
       "      <th>source</th>\n",
       "      <th>language</th>\n",
       "      <th>text</th>\n",
       "      <th>task1</th>\n",
       "      <th>task2</th>\n",
       "      <th>label</th>\n",
       "    </tr>\n",
       "  </thead>\n",
       "  <tbody>\n",
       "    <tr>\n",
       "      <th>0</th>\n",
       "      <td>EXIST2021</td>\n",
       "      <td>1</td>\n",
       "      <td>twitter</td>\n",
       "      <td>en</td>\n",
       "      <td>she calls herself \" anti-feminazi \" how about ...</td>\n",
       "      <td>sexist</td>\n",
       "      <td>ideological-inequality</td>\n",
       "      <td>1</td>\n",
       "    </tr>\n",
       "    <tr>\n",
       "      <th>1</th>\n",
       "      <td>EXIST2021</td>\n",
       "      <td>2</td>\n",
       "      <td>twitter</td>\n",
       "      <td>en</td>\n",
       "      <td>now , back to these women , the brave and the ...</td>\n",
       "      <td>non-sexist</td>\n",
       "      <td>non-sexist</td>\n",
       "      <td>0</td>\n",
       "    </tr>\n",
       "    <tr>\n",
       "      <th>2</th>\n",
       "      <td>EXIST2021</td>\n",
       "      <td>3</td>\n",
       "      <td>twitter</td>\n",
       "      <td>en</td>\n",
       "      <td>wow , your skirt is very short . what is it's ...</td>\n",
       "      <td>sexist</td>\n",
       "      <td>objectification</td>\n",
       "      <td>1</td>\n",
       "    </tr>\n",
       "    <tr>\n",
       "      <th>3</th>\n",
       "      <td>EXIST2021</td>\n",
       "      <td>4</td>\n",
       "      <td>twitter</td>\n",
       "      <td>en</td>\n",
       "      <td>incredible ! beautiful ! but i laughed so much...</td>\n",
       "      <td>non-sexist</td>\n",
       "      <td>non-sexist</td>\n",
       "      <td>0</td>\n",
       "    </tr>\n",
       "    <tr>\n",
       "      <th>4</th>\n",
       "      <td>EXIST2021</td>\n",
       "      <td>5</td>\n",
       "      <td>twitter</td>\n",
       "      <td>en</td>\n",
       "      <td>i find it extremely hard to believe that kelly...</td>\n",
       "      <td>non-sexist</td>\n",
       "      <td>non-sexist</td>\n",
       "      <td>0</td>\n",
       "    </tr>\n",
       "  </tbody>\n",
       "</table>\n",
       "</div>"
      ],
      "text/plain": [
       "   test_case  id   source language  \\\n",
       "0  EXIST2021   1  twitter       en   \n",
       "1  EXIST2021   2  twitter       en   \n",
       "2  EXIST2021   3  twitter       en   \n",
       "3  EXIST2021   4  twitter       en   \n",
       "4  EXIST2021   5  twitter       en   \n",
       "\n",
       "                                                text       task1  \\\n",
       "0  she calls herself \" anti-feminazi \" how about ...      sexist   \n",
       "1  now , back to these women , the brave and the ...  non-sexist   \n",
       "2  wow , your skirt is very short . what is it's ...      sexist   \n",
       "3  incredible ! beautiful ! but i laughed so much...  non-sexist   \n",
       "4  i find it extremely hard to believe that kelly...  non-sexist   \n",
       "\n",
       "                    task2  label  \n",
       "0  ideological-inequality      1  \n",
       "1              non-sexist      0  \n",
       "2         objectification      1  \n",
       "3              non-sexist      0  \n",
       "4              non-sexist      0  "
      ]
     },
     "execution_count": 4,
     "metadata": {},
     "output_type": "execute_result"
    }
   ],
   "source": [
    "train_df = pd.read_csv('../../data/EXIST2021_training.tsv', sep='\\t')\n",
    "\n",
    "# Un simple pre-procesamiento\n",
    "train_df['text'] = train_df['text'].apply(lambda text: preprocessing.preprocess(text))\n",
    "\n",
    "# Codificamos las etiquetas\n",
    "label_encoder = LabelEncoder()\n",
    "label_encoder.fit(train_df['task1'])\n",
    "\n",
    "train_df['label'] = label_encoder.transform(train_df['task1'])\n",
    "\n",
    "train_df.head()"
   ]
  },
  {
   "cell_type": "code",
   "execution_count": 5,
   "id": "diverse-cocktail",
   "metadata": {},
   "outputs": [
    {
     "data": {
      "text/html": [
       "<div>\n",
       "<style scoped>\n",
       "    .dataframe tbody tr th:only-of-type {\n",
       "        vertical-align: middle;\n",
       "    }\n",
       "\n",
       "    .dataframe tbody tr th {\n",
       "        vertical-align: top;\n",
       "    }\n",
       "\n",
       "    .dataframe thead th {\n",
       "        text-align: right;\n",
       "    }\n",
       "</style>\n",
       "<table border=\"1\" class=\"dataframe\">\n",
       "  <thead>\n",
       "    <tr style=\"text-align: right;\">\n",
       "      <th></th>\n",
       "      <th>test_case</th>\n",
       "      <th>id</th>\n",
       "      <th>source</th>\n",
       "      <th>language</th>\n",
       "      <th>text</th>\n",
       "      <th>task1</th>\n",
       "      <th>task2</th>\n",
       "      <th>label</th>\n",
       "    </tr>\n",
       "  </thead>\n",
       "  <tbody>\n",
       "    <tr>\n",
       "      <th>0</th>\n",
       "      <td>EXIST2021</td>\n",
       "      <td>6978</td>\n",
       "      <td>gab</td>\n",
       "      <td>en</td>\n",
       "      <td>pennsylvania state rep horrifies with opening ...</td>\n",
       "      <td>non-sexist</td>\n",
       "      <td>non-sexist</td>\n",
       "      <td>0</td>\n",
       "    </tr>\n",
       "    <tr>\n",
       "      <th>1</th>\n",
       "      <td>EXIST2021</td>\n",
       "      <td>6979</td>\n",
       "      <td>twitter</td>\n",
       "      <td>en</td>\n",
       "      <td>he sounds like as ass , and very condescending .</td>\n",
       "      <td>non-sexist</td>\n",
       "      <td>non-sexist</td>\n",
       "      <td>0</td>\n",
       "    </tr>\n",
       "    <tr>\n",
       "      <th>2</th>\n",
       "      <td>EXIST2021</td>\n",
       "      <td>6980</td>\n",
       "      <td>twitter</td>\n",
       "      <td>en</td>\n",
       "      <td>lol ! \" this behavior of not letting men tell ...</td>\n",
       "      <td>sexist</td>\n",
       "      <td>ideological-inequality</td>\n",
       "      <td>1</td>\n",
       "    </tr>\n",
       "    <tr>\n",
       "      <th>3</th>\n",
       "      <td>EXIST2021</td>\n",
       "      <td>6981</td>\n",
       "      <td>twitter</td>\n",
       "      <td>en</td>\n",
       "      <td>rights ? i mean yeah most women especially the...</td>\n",
       "      <td>sexist</td>\n",
       "      <td>ideological-inequality</td>\n",
       "      <td>1</td>\n",
       "    </tr>\n",
       "    <tr>\n",
       "      <th>4</th>\n",
       "      <td>EXIST2021</td>\n",
       "      <td>6982</td>\n",
       "      <td>twitter</td>\n",
       "      <td>en</td>\n",
       "      <td>the jack manifold appreciation i ’ m seeing is...</td>\n",
       "      <td>non-sexist</td>\n",
       "      <td>non-sexist</td>\n",
       "      <td>0</td>\n",
       "    </tr>\n",
       "  </tbody>\n",
       "</table>\n",
       "</div>"
      ],
      "text/plain": [
       "   test_case    id   source language  \\\n",
       "0  EXIST2021  6978      gab       en   \n",
       "1  EXIST2021  6979  twitter       en   \n",
       "2  EXIST2021  6980  twitter       en   \n",
       "3  EXIST2021  6981  twitter       en   \n",
       "4  EXIST2021  6982  twitter       en   \n",
       "\n",
       "                                                text       task1  \\\n",
       "0  pennsylvania state rep horrifies with opening ...  non-sexist   \n",
       "1   he sounds like as ass , and very condescending .  non-sexist   \n",
       "2  lol ! \" this behavior of not letting men tell ...      sexist   \n",
       "3  rights ? i mean yeah most women especially the...      sexist   \n",
       "4  the jack manifold appreciation i ’ m seeing is...  non-sexist   \n",
       "\n",
       "                    task2  label  \n",
       "0              non-sexist      0  \n",
       "1              non-sexist      0  \n",
       "2  ideological-inequality      1  \n",
       "3  ideological-inequality      1  \n",
       "4              non-sexist      0  "
      ]
     },
     "execution_count": 5,
     "metadata": {},
     "output_type": "execute_result"
    }
   ],
   "source": [
    "test_df = pd.read_csv('../../data/EXIST2021_test.tsv', sep='\\t')\n",
    "\n",
    "# Un simple pre-procesamiento\n",
    "test_df['text'] = test_df['text'].apply(lambda text: preprocessing.preprocess(text))\n",
    "\n",
    "test_df['label'] = label_encoder.transform(test_df['task1'])\n",
    "\n",
    "test_df.head()"
   ]
  },
  {
   "cell_type": "code",
   "execution_count": 6,
   "id": "negative-courage",
   "metadata": {},
   "outputs": [],
   "source": [
    "# # Ya está preprocesado\n",
    "# train_df = pd.read_csv('../../Data/EXIST2021_training_spell_checked.csv', sep=',')\n",
    "\n",
    "# # Codificamos las etiquetas\n",
    "# label_encoder = LabelEncoder()\n",
    "# label_encoder.fit(train_df['task1'])\n",
    "\n",
    "# train_df['label'] = label_encoder.transform(train_df['task1'])\n",
    "\n",
    "# train_df.head()"
   ]
  },
  {
   "cell_type": "code",
   "execution_count": 7,
   "id": "liable-philippines",
   "metadata": {},
   "outputs": [],
   "source": [
    "# # Ya está preprocesado\n",
    "# test_df = pd.read_csv('../../Data/EXIST2021_test_spell_checked.csv', sep=',')\n",
    "\n",
    "# test_df['label'] = label_encoder.transform(test_df['task1'])\n",
    "\n",
    "# test_df.head()"
   ]
  },
  {
   "cell_type": "markdown",
   "id": "special-brighton",
   "metadata": {},
   "source": [
    "### Dataloaders"
   ]
  },
  {
   "cell_type": "markdown",
   "id": "preceding-identifier",
   "metadata": {},
   "source": [
    "En [Huggingface models](https://huggingface.co/models) están los modelos pre-entrenados disponibles. Usaré [bert-base-multilingual-uncased](https://huggingface.co/bert-base-multilingual-uncased) que está pre-entrenado en 102 idiomas con un corpus de Wikipedia."
   ]
  },
  {
   "cell_type": "code",
   "execution_count": 8,
   "id": "spanish-headquarters",
   "metadata": {},
   "outputs": [],
   "source": [
    "# tokenizer = BertTokenizer.from_pretrained('bert-base-multilingual-uncased')\n",
    "# bert = BertModel.from_pretrained('bert-base-multilingual-uncased')\n",
    "\n",
    "# tokenizer(['hello my name is dave']), tokenizer(['hola mi nombre es david'])"
   ]
  },
  {
   "cell_type": "code",
   "execution_count": 9,
   "id": "behind-distribution",
   "metadata": {},
   "outputs": [],
   "source": [
    "class DataSet:    \n",
    "    def __init__(self, file):\n",
    "        self.y = torch.tensor(file['label'].to_numpy(), dtype=torch.long)\n",
    "        self.texts = file['text'].tolist()\n",
    "        \n",
    "        self.tokenizer = BertTokenizer.from_pretrained('bert-base-multilingual-uncased')\n",
    "        \n",
    "    def __getitem__(self, i):\n",
    "        inputs1 = self.tokenizer(self.texts[i], max_length=128, padding='max_length', truncation=True, return_tensors='pt')\n",
    "        return torch.squeeze(inputs1['input_ids']), torch.squeeze(inputs1['attention_mask']), torch.squeeze(self.y[i])\n",
    "        \n",
    "    def __len__(self):\n",
    "        return len(self.y)\n",
    "    \n",
    "class DataSetText:    \n",
    "    def __init__(self, file):\n",
    "        self.y = torch.tensor(file['label'].to_numpy(), dtype=torch.long)\n",
    "        self.texts = file['text'].tolist()\n",
    "        \n",
    "        self.tokenizer = BertTokenizer.from_pretrained('bert-base-multilingual-uncased')\n",
    "        \n",
    "    def __getitem__(self, i):\n",
    "        inputs1 = self.tokenizer(self.texts[i], max_length=128, padding='max_length', truncation=True, return_tensors='pt')\n",
    "        return torch.squeeze(inputs1['input_ids']), torch.squeeze(inputs1['attention_mask']), torch.squeeze(self.y[i])\n",
    "        \n",
    "    def __len__(self):\n",
    "        return len(self.y)"
   ]
  },
  {
   "cell_type": "code",
   "execution_count": 10,
   "id": "broad-riding",
   "metadata": {},
   "outputs": [
    {
     "name": "stdout",
     "output_type": "stream",
     "text": [
      "Train: 6977\n",
      "Test: 4368\n"
     ]
    }
   ],
   "source": [
    "ds_text_train = DataSetText(train_df)\n",
    "ds_text_test = DataSetText(test_df)\n",
    "\n",
    "print(f'Train: {len(ds_text_train)}')\n",
    "print(f'Test: {len(ds_text_test)}')"
   ]
  },
  {
   "cell_type": "code",
   "execution_count": 11,
   "id": "european-validation",
   "metadata": {},
   "outputs": [],
   "source": [
    "# Si hago el batch más grande puede que no quepa en la GPU\n",
    "BATCH_SIZE = 8\n",
    "\n",
    "train_dl = DataLoader(\n",
    "    ds_text_train,\n",
    "    batch_size=BATCH_SIZE,\n",
    "    shuffle=True,\n",
    "    num_workers=4,\n",
    "    drop_last=True)\n",
    "\n",
    "test_dl = DataLoader(\n",
    "    ds_text_test,\n",
    "    batch_size=BATCH_SIZE,\n",
    "    shuffle=True,\n",
    "    num_workers=4)"
   ]
  },
  {
   "cell_type": "markdown",
   "id": "complicated-cruise",
   "metadata": {},
   "source": [
    "## Modelo\n",
    "\n",
    "Hay ciertos hiperparámetros que se recomiendan para hacer fine-tuning con BERT, yo usaré los que se muestran en [Notes on BERT: Pre-training of Deep Bidirectional Transformers for Language Understanding](https://stephanheijl.com/notes_on_bert.html)."
   ]
  },
  {
   "cell_type": "code",
   "execution_count": 12,
   "id": "demonstrated-relay",
   "metadata": {},
   "outputs": [],
   "source": [
    "class SexismClassifier(nn.Module):\n",
    "    def __init__(self):\n",
    "        super(SexismClassifier, self).__init__()\n",
    "        self.bert = BertModel.from_pretrained('bert-base-multilingual-uncased')\n",
    "        \n",
    "        self.dropout = nn.Dropout(p=0.5)\n",
    "                \n",
    "        self.clf = nn.Sequential(nn.Linear(768, 2), \n",
    "                                 nn.Softmax(dim=1))\n",
    "        \n",
    "    def forward(self, ids, masks):\n",
    "        # [batch_size, max_length] -> [batch_size, max_length, 768]\n",
    "        bert_output = self.bert(input_ids=ids, attention_mask=masks, return_dict=True).last_hidden_state\n",
    "        \n",
    "        # [batch_size, max_length, 768] -> [batch_size, 768]\n",
    "        # cls_output = bert_output[:,0,:]\n",
    "        cls_output = torch.mean(bert_output, dim=1)\n",
    "        \n",
    "        cls_output = self.dropout(cls_output)\n",
    "        \n",
    "        # [batch_size, 768] -> [batch_size, 2]\n",
    "        y = self.clf(cls_output)\n",
    "\n",
    "        return y"
   ]
  },
  {
   "cell_type": "code",
   "execution_count": 13,
   "id": "dynamic-afternoon",
   "metadata": {},
   "outputs": [],
   "source": [
    "model = SexismClassifier().to(device)"
   ]
  },
  {
   "cell_type": "code",
   "execution_count": 14,
   "id": "secure-submission",
   "metadata": {},
   "outputs": [],
   "source": [
    "# berttokenizer = BertTokenizer.from_pretrained('bert-base-multilingual-uncased')\n",
    "\n",
    "# text = 'hello my name is dave'\n",
    "\n",
    "# berttokenizer_dict = berttokenizer(text, max_length=128, padding='max_length', truncation=True, return_tensors='pt')\n",
    "# input_ids = berttokenizer_dict['input_ids'].to(device)\n",
    "# attention_mask = berttokenizer_dict['attention_mask'].to(device)\n",
    "\n",
    "# bert_output = model(input_ids, attention_mask)\n",
    "# bert_output[:,0,:].shape, torch.mean(bert_output, dim=1).shape"
   ]
  },
  {
   "cell_type": "code",
   "execution_count": 15,
   "id": "superb-bibliography",
   "metadata": {},
   "outputs": [
    {
     "data": {
      "text/plain": [
       "=================================================================\n",
       "Layer (type:depth-idx)                   Param #\n",
       "=================================================================\n",
       "├─BertModel: 1-1                         --\n",
       "|    └─BertEmbeddings: 2-1               --\n",
       "|    |    └─Embedding: 3-1               81,315,072\n",
       "|    |    └─Embedding: 3-2               393,216\n",
       "|    |    └─Embedding: 3-3               1,536\n",
       "|    |    └─LayerNorm: 3-4               1,536\n",
       "|    |    └─Dropout: 3-5                 --\n",
       "|    └─BertEncoder: 2-2                  --\n",
       "|    |    └─ModuleList: 3-6              85,054,464\n",
       "|    └─BertPooler: 2-3                   --\n",
       "|    |    └─Linear: 3-7                  590,592\n",
       "|    |    └─Tanh: 3-8                    --\n",
       "├─Dropout: 1-2                           --\n",
       "├─Sequential: 1-3                        --\n",
       "|    └─Linear: 2-4                       1,538\n",
       "|    └─Softmax: 2-5                      --\n",
       "=================================================================\n",
       "Total params: 167,357,954\n",
       "Trainable params: 167,357,954\n",
       "Non-trainable params: 0\n",
       "================================================================="
      ]
     },
     "execution_count": 15,
     "metadata": {},
     "output_type": "execute_result"
    }
   ],
   "source": [
    "summary(model)"
   ]
  },
  {
   "cell_type": "markdown",
   "id": "greenhouse-minimum",
   "metadata": {},
   "source": [
    "### Entrenamiento"
   ]
  },
  {
   "cell_type": "code",
   "execution_count": 16,
   "id": "finnish-founder",
   "metadata": {},
   "outputs": [
    {
     "name": "stdout",
     "output_type": "stream",
     "text": [
      "Epoch 5: train acc:0.8790137614678899 test acc:0.7527472527472527\n"
     ]
    },
    {
     "data": {
      "image/png": "[encoded data removed]",
      "text/plain": [
       "<Figure size 1080x432 with 2 Axes>"
      ]
     },
     "metadata": {},
     "output_type": "display_data"
    },
    {
     "name": "stdout",
     "output_type": "stream",
     "text": [
      "CPU times: user 11min 46s, sys: 32.3 s, total: 12min 19s\n",
      "Wall time: 12min 15s\n"
     ]
    }
   ],
   "source": [
    "%time losses_train, losses_test, accs_train, accs_test = train(model, train_dl, test_dl, epochs=5, lr=1e-5)"
   ]
  },
  {
   "cell_type": "markdown",
   "id": "broad-badge",
   "metadata": {},
   "source": [
    "### Evaluación"
   ]
  },
  {
   "cell_type": "code",
   "execution_count": 17,
   "id": "limiting-south",
   "metadata": {},
   "outputs": [
    {
     "name": "stdout",
     "output_type": "stream",
     "text": [
      "CPU times: user 19.2 s, sys: 232 ms, total: 19.4 s\n",
      "Wall time: 19.6 s\n"
     ]
    }
   ],
   "source": [
    "%time y_test, y_pred = infer(model, test_dl)"
   ]
  },
  {
   "cell_type": "code",
   "execution_count": 18,
   "id": "official-district",
   "metadata": {},
   "outputs": [
    {
     "name": "stdout",
     "output_type": "stream",
     "text": [
      "              precision    recall  f1-score   support\n",
      "\n",
      "  non-sexist       0.75      0.73      0.74      2087\n",
      "      sexist       0.76      0.77      0.77      2281\n",
      "\n",
      "    accuracy                           0.75      4368\n",
      "   macro avg       0.75      0.75      0.75      4368\n",
      "weighted avg       0.75      0.75      0.75      4368\n",
      "\n"
     ]
    }
   ],
   "source": [
    "print(classification_report(y_test, y_pred, target_names=['non-sexist', 'sexist']))"
   ]
  },
  {
   "cell_type": "code",
   "execution_count": 19,
   "id": "usual-terror",
   "metadata": {},
   "outputs": [
    {
     "name": "stdout",
     "output_type": "stream",
     "text": [
      "Accuracy: 75.2747\n",
      "F1 score: 76.5625\n"
     ]
    }
   ],
   "source": [
    "print(f'Accuracy: {round(100*accuracy_score(y_test, y_pred), 4)}')\n",
    "print(f'F1 score: {round(100*f1_score(y_test, y_pred), 4)}')"
   ]
  },
  {
   "cell_type": "code",
   "execution_count": 20,
   "id": "killing-prayer",
   "metadata": {},
   "outputs": [
    {
     "data": {
      "text/plain": [
       "'sexist'"
      ]
     },
     "execution_count": 20,
     "metadata": {},
     "output_type": "execute_result"
    }
   ],
   "source": [
    "text = 'shut up bitch and suck a dick'\n",
    "\n",
    "predict_sexism(model, text, label=True)"
   ]
  },
  {
   "cell_type": "markdown",
   "id": "trying-confirmation",
   "metadata": {},
   "source": [
    "- De igual manera, parece que hacer el spell-checking no ayuda. \n",
    "- Usar  `torch.mean(bert_output, dim=1)` en vez de `bert_output[:,0,:]` como entrada para el clasificador realmente ayuda.\n",
    "\n",
    "|                **Model**                | **Accuracy** | **F1** |\n",
    "|:---------------------------------------:|:------------:|:------:|\n",
    "| BERT-base-multilingual-uncased, lr=1e-5 |     75.27    |  76.56 |\n",
    "| BERT-base-multilingual-uncased, lr=2e-5 |     72.21    |  73.88 |\n",
    "| BERT-base-multilingual-uncased, lr=3e-5 |     72.20    |  71.75 |\n",
    "\n",
    "\n",
    "\n",
    "<!-- |                 **Model**                 | **Accuracy** | **F1** |\n",
    "|:-----------------------------------------:|:------------:|:------:|\n",
    "| 1-Dropout, torch.mean(bert_output, dim=1) |     75.27    |  76.55 |\n",
    "|       1-Dropout, bert_output[:,0,:]       |    73.509    | 73.240 |\n",
    "|       2-Dropout, bert_output[:,0,:]       |     74.18    |  76.22 |\n",
    "|       3-Dropout, bert_output[:,0,:]       |     74.24    |  74.99 |\n",
    "| 1-Dropout, torch.mean(bert_output, dim=1) |     75.27    |  76.55 |\n",
    "| 2-Dropout, torch.mean(bert_output, dim=1) |       -      |    -   |\n",
    "| 3-Dropout, torch.mean(bert_output, dim=1) |     74.52    |  74.81 | -->"
   ]
  },
  {
   "cell_type": "markdown",
   "id": "boxed-joint",
   "metadata": {},
   "source": [
    "Finalmente, guardamos el modelo."
   ]
  },
  {
   "cell_type": "code",
   "execution_count": 21,
   "id": "valid-charter",
   "metadata": {},
   "outputs": [
    {
     "name": "stdout",
     "output_type": "stream",
     "text": [
      "mkdir: no se puede crear el directorio «models»: El archivo ya existe\n"
     ]
    }
   ],
   "source": [
    "! mkdir models"
   ]
  },
  {
   "cell_type": "code",
   "execution_count": 22,
   "id": "electronic-dublin",
   "metadata": {},
   "outputs": [],
   "source": [
    "torch.save(model.state_dict(), 'models/sexism-classifier-task1.pt')"
   ]
  }
 ],
 "metadata": {
  "kernelspec": {
   "display_name": "Python 3",
   "language": "python",
   "name": "python3"
  },
  "language_info": {
   "codemirror_mode": {
    "name": "ipython",
    "version": 3
   },
   "file_extension": ".py",
   "mimetype": "text/x-python",
   "name": "python",
   "nbconvert_exporter": "python",
   "pygments_lexer": "ipython3",
   "version": "3.7.3"
  }
 },
 "nbformat": 4,
 "nbformat_minor": 5
}
